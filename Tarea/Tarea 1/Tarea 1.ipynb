{
 "cells": [
  {
   "cell_type": "markdown",
   "metadata": {
    "id": "I-Z727EEayam"
   },
   "source": [
    "1 - ¿QUÉ ES UNA VARIABLE?\n",
    "2 - ¿Y UN IDENTIFICADOR?. ESCRIBE UN PROGRAMA CON UNA VARIABLE QUE ALMACENE UN NOMBRE Y LUEGO LO IMPRIMA POR PANTALLA."
   ]
  },
  {
   "cell_type": "code",
   "execution_count": null,
   "metadata": {
    "colab": {
     "base_uri": "https://localhost:8080/"
    },
    "executionInfo": {
     "elapsed": 6,
     "status": "ok",
     "timestamp": 1683348420839,
     "user": {
      "displayName": "Keisa Avila",
      "userId": "16899305028149382978"
     },
     "user_tz": 300
    },
    "id": "Gg_XELOgTzXo",
    "outputId": "ee322798-680e-4e44-d1b1-303b4b5726fb"
   },
   "outputs": [],
   "source": []
  },
  {
   "cell_type": "markdown",
   "metadata": {
    "id": "ZK7dKLSiYBjD"
   },
   "source": [
    "2 - QUÉ TIPO DE NÚMEROS SOPORTA PYTHON?. ESCRIBE UN PROGRAMA QUE PIDA DOS NÚMEROS ENTEROS Y LOS SUME"
   ]
  },
  {
   "cell_type": "code",
   "execution_count": null,
   "metadata": {
    "colab": {
     "base_uri": "https://localhost:8080/"
    },
    "executionInfo": {
     "elapsed": 7265,
     "status": "ok",
     "timestamp": 1683483447015,
     "user": {
      "displayName": "Keisa Avila",
      "userId": "16899305028149382978"
     },
     "user_tz": 300
    },
    "id": "T-Yx3ZFebD25",
    "outputId": "beb71132-8a5b-4611-acb7-79a47f85985b"
   },
   "outputs": [],
   "source": []
  },
  {
   "cell_type": "markdown",
   "metadata": {
    "id": "dqVS9zvZhoJI"
   },
   "source": [
    "3 - ESCRIBE UN PROGRAMA QUE CONCATENE VARIAS CADENAS."
   ]
  },
  {
   "cell_type": "code",
   "execution_count": null,
   "metadata": {
    "colab": {
     "base_uri": "https://localhost:8080/"
    },
    "executionInfo": {
     "elapsed": 368,
     "status": "ok",
     "timestamp": 1683485787583,
     "user": {
      "displayName": "Keisa Avila",
      "userId": "16899305028149382978"
     },
     "user_tz": 300
    },
    "id": "hiCNnTJij0u2",
    "outputId": "0cddfb2b-711c-4a33-ab84-71cd8b5a144c"
   },
   "outputs": [],
   "source": []
  },
  {
   "cell_type": "markdown",
   "metadata": {
    "id": "bgopuAdXusm3"
   },
   "source": [
    "4 - ¿EN QUÉ SE DIFERENCIA UNA LISTA DE UN DICCIONARIO? ¿EN QUÉ SE DIFERERNCIA UNA LISTA DE UNA TUPLA?. ESCRIBE UN PROGRAMA QUE DEVUELVA TODAS LAS CLAVES DE UN DICCIONARIO EN FORMA DE TUPLA, POR EJEMPLO: {“name”: “Javier”, “age”: 30, “height”: 1.86} -> (“name”, “age”, “height”)"
   ]
  },
  {
   "cell_type": "code",
   "execution_count": null,
   "metadata": {
    "colab": {
     "base_uri": "https://localhost:8080/"
    },
    "executionInfo": {
     "elapsed": 555,
     "status": "ok",
     "timestamp": 1683490355559,
     "user": {
      "displayName": "Keisa Avila",
      "userId": "16899305028149382978"
     },
     "user_tz": 300
    },
    "id": "PLXS2uwpxnz-",
    "outputId": "04b0466b-c224-48ad-9427-7d9b5716a45e"
   },
   "outputs": [],
   "source": []
  },
  {
   "cell_type": "markdown",
   "metadata": {
    "id": "yqbcUqQm3cMX"
   },
   "source": [
    "5 - ESCRIBE UN PROGRAMA QUE EN BASE A ESTA LISTA: [1, 2, 3, 4, 5, 6, 7, 8, 9, 10] PINTE POR PANTALLA LOS NÚMEROS PARES."
   ]
  },
  {
   "cell_type": "code",
   "execution_count": null,
   "metadata": {},
   "outputs": [],
   "source": []
  },
  {
   "cell_type": "markdown",
   "metadata": {},
   "source": [
    "6 - ESCRIBE UNA FUNCIÓN QUE TOME LOS DOS PRIMEROS PARÁMETROS Y DEVUELVA SU RESTA. ESTA FUNCIÓN DEBE TENER UN TERCER PARÁMETRO OPCIONAL BOOLEANO POR DEFECTO EN “FALSE”. SI ESTE PARÁMETRO SE PONE EN “TRUE”, LA FUNCIÓN DEBERÁ LANZAR UNA EXCEPCIÓN Y NO DEVOLVER VALOR."
   ]
  },
  {
   "cell_type": "code",
   "execution_count": null,
   "metadata": {},
   "outputs": [],
   "source": []
  },
  {
   "cell_type": "markdown",
   "metadata": {},
   "source": [
    "7 - ¿EN QUÉ SE DIFERENCIA UNA CLASE Y UN OBJETO?. CREA UNA CLASE CON UN MÉTODO DE INICIALIZACIÓN CON DOS PARÁMETROS, DOS MÉTODOS Y DOS ATRIBUTOS E INSTANCIA UN OBJETO."
   ]
  },
  {
   "cell_type": "code",
   "execution_count": null,
   "metadata": {},
   "outputs": [],
   "source": []
  },
  {
   "cell_type": "markdown",
   "metadata": {},
   "source": [
    "8 - ENUMERA Y DESCRIBE BREVEMENTE UNA LIBRERÍA DE TRATAMIENTO DE DATOS Y UN FRAMEWORK IA Y PON UN EJEMPLO DE CADA UNO."
   ]
  },
  {
   "cell_type": "code",
   "execution_count": null,
   "metadata": {},
   "outputs": [],
   "source": []
  },
  {
   "cell_type": "markdown",
   "metadata": {},
   "source": [
    "9 - DESCRIBE QUÉ ES UNA EXCEPCIÓN Y EN PYTHON Y PON UN EJEMPLO."
   ]
  },
  {
   "cell_type": "code",
   "execution_count": null,
   "metadata": {},
   "outputs": [],
   "source": []
  },
  {
   "cell_type": "markdown",
   "metadata": {},
   "source": [
    "10 - ESCRIBE UN PROGRAMA QUE LEA EL ARCHIVO \"data.csv\" E IMPRIMA CADA LINEA POR PANTALLA. EL FICHERO SE ENCUENTRA EN LA MISMA RUTA QUE NUESTRO PROGRAMA."
   ]
  },
  {
   "cell_type": "code",
   "execution_count": null,
   "metadata": {},
   "outputs": [],
   "source": []
  }
 ],
 "metadata": {
  "colab": {
   "authorship_tag": "ABX9TyOJzXHS0jry6hACH/Klv4FJ",
   "provenance": []
  },
  "kernelspec": {
   "display_name": "Python 3",
   "language": "python",
   "name": "python3"
  },
  "language_info": {
   "codemirror_mode": {
    "name": "ipython",
    "version": 3
   },
   "file_extension": ".py",
   "mimetype": "text/x-python",
   "name": "python",
   "nbconvert_exporter": "python",
   "pygments_lexer": "ipython3",
   "version": "3.6.13"
  }
 },
 "nbformat": 4,
 "nbformat_minor": 1
}
