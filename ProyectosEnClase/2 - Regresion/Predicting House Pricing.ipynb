{
 "cells": [
  {
   "cell_type": "markdown",
   "id": "671b691d",
   "metadata": {},
   "source": [
    "# House Pricing Prediction and API with Flask\n",
    "\n",
    "<img src=\"img/home.png\" width=\"30%\" height=\"20%\">\n",
    "\n",
    "¿Can we determine the house prices given some data with Machine Learning? Absolutely yes, and that is we are going to do today.\n",
    "But instead of previous works that we did that we have machine learning production ready models and a dashboard, we will know implement an API, that is Application Program Interface, in simple words, a base interface of data to query and result something, could be a program but in this case a machine learning model.\n",
    "\n",
    "Let's go and understand the problem first!"
   ]
  },
  {
   "cell_type": "markdown",
   "id": "df1a606c",
   "metadata": {},
   "source": [
    "## Problem Statement\n",
    "\n",
    "You are hired as a sub-contractor to deliver a product based machine learning via API to the company 'Big Houz Dreamz'.  They have two key users, people looking a home for second investment and the others based on real-state agents that helps to sell homes.\n",
    "\n",
    "The CTO (Chief Technology Officer) requests to you to finish a project of home predictions that the internal clients could use to fetch information.  The CTO says he just needs the AI part because he have FullStack Engineers that can build the complete app based on other technologies, but they do not know much about machine learning so he outsurced for your services.\n",
    "\n",
    "We both agree about the price of 25000 USD to develop the model and the application in one or two weeks so let's do it!"
   ]
  },
  {
   "cell_type": "markdown",
   "id": "f73ce245",
   "metadata": {},
   "source": [
    "### Importing Libraries"
   ]
  },
  {
   "cell_type": "code",
   "execution_count": 126,
   "id": "e3de1553",
   "metadata": {},
   "outputs": [],
   "source": [
    "import pandas as pd\n",
    "import numpy as np\n",
    "import matplotlib.pyplot as plt\n",
    "import seaborn as sns\n",
    "from sklearn.model_selection import train_test_split\n",
    "import calendar\n",
    "from sklearn.impute import SimpleImputer\n",
    "from sklearn.preprocessing import StandardScaler, OneHotEncoder\n",
    "from sklearn.base import BaseEstimator, TransformerMixin\n",
    "from sklearn.pipeline import Pipeline\n",
    "from sklearn.linear_model import Ridge\n",
    "from sklearn.ensemble import GradientBoostingRegressor, RandomForestRegressor\n",
    "from xgboost.sklearn import XGBRegressor\n",
    "from sklearn.model_selection import GridSearchCV"
   ]
  },
  {
   "cell_type": "markdown",
   "id": "3f2e8c0b",
   "metadata": {},
   "source": [
    "### Importing Data with Pandas\n",
    "\n",
    "As we did in previous notebooks we will use pandas to load and analyze a little bit the data.  Pandas is  probably the way to go to reading files.\n",
    "There are plenty of functions to read with pandas, csv files, json, parquet, hdf, excel and others important files."
   ]
  },
  {
   "cell_type": "code",
   "execution_count": 61,
   "id": "ab27620d",
   "metadata": {},
   "outputs": [
    {
     "data": {
      "text/html": [
       "<div>\n",
       "<style scoped>\n",
       "    .dataframe tbody tr th:only-of-type {\n",
       "        vertical-align: middle;\n",
       "    }\n",
       "\n",
       "    .dataframe tbody tr th {\n",
       "        vertical-align: top;\n",
       "    }\n",
       "\n",
       "    .dataframe thead th {\n",
       "        text-align: right;\n",
       "    }\n",
       "</style>\n",
       "<table border=\"1\" class=\"dataframe\">\n",
       "  <thead>\n",
       "    <tr style=\"text-align: right;\">\n",
       "      <th></th>\n",
       "      <th>TransactionDate</th>\n",
       "      <th>HouseAge</th>\n",
       "      <th>DistanceToStation</th>\n",
       "      <th>NumberOfPubs</th>\n",
       "      <th>PostCode</th>\n",
       "      <th>HousePrice</th>\n",
       "    </tr>\n",
       "    <tr>\n",
       "      <th>ID</th>\n",
       "      <th></th>\n",
       "      <th></th>\n",
       "      <th></th>\n",
       "      <th></th>\n",
       "      <th></th>\n",
       "      <th></th>\n",
       "    </tr>\n",
       "  </thead>\n",
       "  <tbody>\n",
       "    <tr>\n",
       "      <th>0</th>\n",
       "      <td>2020.12</td>\n",
       "      <td>17.0</td>\n",
       "      <td>467.644775</td>\n",
       "      <td>4.0</td>\n",
       "      <td>5222.0</td>\n",
       "      <td>467104</td>\n",
       "    </tr>\n",
       "    <tr>\n",
       "      <th>1</th>\n",
       "      <td>2021.04</td>\n",
       "      <td>36.0</td>\n",
       "      <td>659.924963</td>\n",
       "      <td>3.0</td>\n",
       "      <td>5222.0</td>\n",
       "      <td>547714</td>\n",
       "    </tr>\n",
       "    <tr>\n",
       "      <th>2</th>\n",
       "      <td>2019.04</td>\n",
       "      <td>38.0</td>\n",
       "      <td>305.475941</td>\n",
       "      <td>7.0</td>\n",
       "      <td>5213.0</td>\n",
       "      <td>277232</td>\n",
       "    </tr>\n",
       "    <tr>\n",
       "      <th>3</th>\n",
       "      <td>2021.10</td>\n",
       "      <td>11.0</td>\n",
       "      <td>607.034754</td>\n",
       "      <td>5.0</td>\n",
       "      <td>5213.0</td>\n",
       "      <td>295958</td>\n",
       "    </tr>\n",
       "    <tr>\n",
       "      <th>4</th>\n",
       "      <td>2021.02</td>\n",
       "      <td>14.0</td>\n",
       "      <td>378.827222</td>\n",
       "      <td>5.0</td>\n",
       "      <td>5614.0</td>\n",
       "      <td>439963</td>\n",
       "    </tr>\n",
       "    <tr>\n",
       "      <th>5</th>\n",
       "      <td>2020.02</td>\n",
       "      <td>16.0</td>\n",
       "      <td>806.752405</td>\n",
       "      <td>1.0</td>\n",
       "      <td>5212.0</td>\n",
       "      <td>281262</td>\n",
       "    </tr>\n",
       "    <tr>\n",
       "      <th>6</th>\n",
       "      <td>2019.01</td>\n",
       "      <td>12.0</td>\n",
       "      <td>561.741678</td>\n",
       "      <td>5.0</td>\n",
       "      <td>5614.0</td>\n",
       "      <td>324167</td>\n",
       "    </tr>\n",
       "    <tr>\n",
       "      <th>7</th>\n",
       "      <td>2019.06</td>\n",
       "      <td>2.0</td>\n",
       "      <td>612.550897</td>\n",
       "      <td>4.0</td>\n",
       "      <td>5213.0</td>\n",
       "      <td>343720</td>\n",
       "    </tr>\n",
       "    <tr>\n",
       "      <th>8</th>\n",
       "      <td>2020.03</td>\n",
       "      <td>40.0</td>\n",
       "      <td>70.565801</td>\n",
       "      <td>8.0</td>\n",
       "      <td>5222.0</td>\n",
       "      <td>668514</td>\n",
       "    </tr>\n",
       "    <tr>\n",
       "      <th>9</th>\n",
       "      <td>2019.07</td>\n",
       "      <td>14.0</td>\n",
       "      <td>600.749920</td>\n",
       "      <td>5.0</td>\n",
       "      <td>5222.0</td>\n",
       "      <td>347909</td>\n",
       "    </tr>\n",
       "  </tbody>\n",
       "</table>\n",
       "</div>"
      ],
      "text/plain": [
       "    TransactionDate  HouseAge  DistanceToStation  NumberOfPubs  PostCode  \\\n",
       "ID                                                                         \n",
       "0           2020.12      17.0         467.644775           4.0    5222.0   \n",
       "1           2021.04      36.0         659.924963           3.0    5222.0   \n",
       "2           2019.04      38.0         305.475941           7.0    5213.0   \n",
       "3           2021.10      11.0         607.034754           5.0    5213.0   \n",
       "4           2021.02      14.0         378.827222           5.0    5614.0   \n",
       "5           2020.02      16.0         806.752405           1.0    5212.0   \n",
       "6           2019.01      12.0         561.741678           5.0    5614.0   \n",
       "7           2019.06       2.0         612.550897           4.0    5213.0   \n",
       "8           2020.03      40.0          70.565801           8.0    5222.0   \n",
       "9           2019.07      14.0         600.749920           5.0    5222.0   \n",
       "\n",
       "   HousePrice  \n",
       "ID             \n",
       "0      467104  \n",
       "1      547714  \n",
       "2      277232  \n",
       "3      295958  \n",
       "4      439963  \n",
       "5      281262  \n",
       "6      324167  \n",
       "7      343720  \n",
       "8      668514  \n",
       "9      347909  "
      ]
     },
     "execution_count": 61,
     "metadata": {},
     "output_type": "execute_result"
    }
   ],
   "source": [
    "df = pd.read_csv('regressiondata.csv', index_col='ID') # Read the dataset and put ID as the index rows\n",
    "df.head(10) # 10 first rows"
   ]
  },
  {
   "cell_type": "code",
   "execution_count": 62,
   "id": "b767a5ba",
   "metadata": {},
   "outputs": [
    {
     "data": {
      "text/html": [
       "<div>\n",
       "<style scoped>\n",
       "    .dataframe tbody tr th:only-of-type {\n",
       "        vertical-align: middle;\n",
       "    }\n",
       "\n",
       "    .dataframe tbody tr th {\n",
       "        vertical-align: top;\n",
       "    }\n",
       "\n",
       "    .dataframe thead th {\n",
       "        text-align: right;\n",
       "    }\n",
       "</style>\n",
       "<table border=\"1\" class=\"dataframe\">\n",
       "  <thead>\n",
       "    <tr style=\"text-align: right;\">\n",
       "      <th></th>\n",
       "      <th>TransactionDate</th>\n",
       "      <th>HouseAge</th>\n",
       "      <th>DistanceToStation</th>\n",
       "      <th>NumberOfPubs</th>\n",
       "      <th>PostCode</th>\n",
       "      <th>HousePrice</th>\n",
       "    </tr>\n",
       "    <tr>\n",
       "      <th>ID</th>\n",
       "      <th></th>\n",
       "      <th></th>\n",
       "      <th></th>\n",
       "      <th></th>\n",
       "      <th></th>\n",
       "      <th></th>\n",
       "    </tr>\n",
       "  </thead>\n",
       "  <tbody>\n",
       "    <tr>\n",
       "      <th>9346</th>\n",
       "      <td>2020.12</td>\n",
       "      <td>28.0</td>\n",
       "      <td>660.048709</td>\n",
       "      <td>6.0</td>\n",
       "      <td>5614.0</td>\n",
       "      <td>499416</td>\n",
       "    </tr>\n",
       "    <tr>\n",
       "      <th>9347</th>\n",
       "      <td>2021.11</td>\n",
       "      <td>42.0</td>\n",
       "      <td>55.471283</td>\n",
       "      <td>6.0</td>\n",
       "      <td>5213.0</td>\n",
       "      <td>299381</td>\n",
       "    </tr>\n",
       "    <tr>\n",
       "      <th>9348</th>\n",
       "      <td>2021.12</td>\n",
       "      <td>17.0</td>\n",
       "      <td>647.585874</td>\n",
       "      <td>8.0</td>\n",
       "      <td>5212.0</td>\n",
       "      <td>271530</td>\n",
       "    </tr>\n",
       "    <tr>\n",
       "      <th>9349</th>\n",
       "      <td>2021.09</td>\n",
       "      <td>12.0</td>\n",
       "      <td>1601.467269</td>\n",
       "      <td>1.0</td>\n",
       "      <td>5222.0</td>\n",
       "      <td>370851</td>\n",
       "    </tr>\n",
       "    <tr>\n",
       "      <th>9350</th>\n",
       "      <td>2021.10</td>\n",
       "      <td>32.0</td>\n",
       "      <td>5327.995740</td>\n",
       "      <td>1.0</td>\n",
       "      <td>5222.0</td>\n",
       "      <td>178361</td>\n",
       "    </tr>\n",
       "    <tr>\n",
       "      <th>9351</th>\n",
       "      <td>2019.07</td>\n",
       "      <td>36.0</td>\n",
       "      <td>554.324820</td>\n",
       "      <td>3.0</td>\n",
       "      <td>5217.0</td>\n",
       "      <td>420246</td>\n",
       "    </tr>\n",
       "    <tr>\n",
       "      <th>9352</th>\n",
       "      <td>2021.02</td>\n",
       "      <td>21.0</td>\n",
       "      <td>2296.349397</td>\n",
       "      <td>4.0</td>\n",
       "      <td>5614.0</td>\n",
       "      <td>256087</td>\n",
       "    </tr>\n",
       "    <tr>\n",
       "      <th>9353</th>\n",
       "      <td>2020.11</td>\n",
       "      <td>18.0</td>\n",
       "      <td>856.174897</td>\n",
       "      <td>0.0</td>\n",
       "      <td>5614.0</td>\n",
       "      <td>257663</td>\n",
       "    </tr>\n",
       "    <tr>\n",
       "      <th>9354</th>\n",
       "      <td>2021.10</td>\n",
       "      <td>6.0</td>\n",
       "      <td>87.260667</td>\n",
       "      <td>9.0</td>\n",
       "      <td>5614.0</td>\n",
       "      <td>681072</td>\n",
       "    </tr>\n",
       "    <tr>\n",
       "      <th>9355</th>\n",
       "      <td>2020.12</td>\n",
       "      <td>20.0</td>\n",
       "      <td>584.007146</td>\n",
       "      <td>4.0</td>\n",
       "      <td>5614.0</td>\n",
       "      <td>403096</td>\n",
       "    </tr>\n",
       "  </tbody>\n",
       "</table>\n",
       "</div>"
      ],
      "text/plain": [
       "      TransactionDate  HouseAge  DistanceToStation  NumberOfPubs  PostCode  \\\n",
       "ID                                                                           \n",
       "9346          2020.12      28.0         660.048709           6.0    5614.0   \n",
       "9347          2021.11      42.0          55.471283           6.0    5213.0   \n",
       "9348          2021.12      17.0         647.585874           8.0    5212.0   \n",
       "9349          2021.09      12.0        1601.467269           1.0    5222.0   \n",
       "9350          2021.10      32.0        5327.995740           1.0    5222.0   \n",
       "9351          2019.07      36.0         554.324820           3.0    5217.0   \n",
       "9352          2021.02      21.0        2296.349397           4.0    5614.0   \n",
       "9353          2020.11      18.0         856.174897           0.0    5614.0   \n",
       "9354          2021.10       6.0          87.260667           9.0    5614.0   \n",
       "9355          2020.12      20.0         584.007146           4.0    5614.0   \n",
       "\n",
       "     HousePrice  \n",
       "ID               \n",
       "9346     499416  \n",
       "9347     299381  \n",
       "9348     271530  \n",
       "9349     370851  \n",
       "9350     178361  \n",
       "9351     420246  \n",
       "9352     256087  \n",
       "9353     257663  \n",
       "9354     681072  \n",
       "9355     403096  "
      ]
     },
     "execution_count": 62,
     "metadata": {},
     "output_type": "execute_result"
    }
   ],
   "source": [
    "df.tail(10) # 10 first rows"
   ]
  },
  {
   "cell_type": "markdown",
   "id": "0a095fab",
   "metadata": {},
   "source": [
    "Did you identified the target value? No. Well if we are predicting house prices our target values is `HousePrice`.\n",
    "\n",
    "Let's see an specific random row.  If you excecute several times you will se that you get different values due to the random function."
   ]
  },
  {
   "cell_type": "code",
   "execution_count": 63,
   "id": "d3f8d64f",
   "metadata": {},
   "outputs": [
    {
     "data": {
      "text/plain": [
       "TransactionDate         2020.07\n",
       "HouseAge                    1.0\n",
       "DistanceToStation    288.839479\n",
       "NumberOfPubs                6.0\n",
       "PostCode                 5213.0\n",
       "HousePrice               301284\n",
       "Name: 2582, dtype: object"
      ]
     },
     "execution_count": 63,
     "metadata": {},
     "output_type": "execute_result"
    }
   ],
   "source": [
    "row = np.random.randint(len(df))\n",
    "df.loc[row]"
   ]
  },
  {
   "cell_type": "markdown",
   "id": "01cf9475",
   "metadata": {},
   "source": [
    "### Creating the train and test set partitions\n",
    "\n",
    "We will always split the data in training and test.  Then we could analyze the training data to get information about the behaviour of the clients, first splitting via stratification and check the information that our data gives us to make a machine learning model.  Note that, splitting and analyzing data are the most important parts to get a good machine learning model.\n",
    "\n",
    "<img src=\"img/traintest.png\" width=\"50%\" height=\"100%\">\n",
    "\n",
    "Usually we will split the dataset in train and test.  `Training` is obviously the data that the model use for training and `Test` is the dataset that the model uses for evalation.  One thing to note is that the dataset of test is not data seen by the model previously.  Tipycal partitions are 80/20, 70/30 and so on."
   ]
  },
  {
   "cell_type": "code",
   "execution_count": 64,
   "id": "af426a9b",
   "metadata": {},
   "outputs": [],
   "source": [
    "train, test = train_test_split(df, test_size=0.2, random_state=42, ) # split data in train and test"
   ]
  },
  {
   "cell_type": "code",
   "execution_count": 65,
   "id": "836a2756",
   "metadata": {},
   "outputs": [
    {
     "data": {
      "text/plain": [
       "pandas.core.frame.DataFrame"
      ]
     },
     "execution_count": 65,
     "metadata": {},
     "output_type": "execute_result"
    }
   ],
   "source": [
    "type(train) # type of the data"
   ]
  },
  {
   "cell_type": "code",
   "execution_count": 66,
   "id": "6eff7202",
   "metadata": {},
   "outputs": [
    {
     "data": {
      "text/html": [
       "<div>\n",
       "<style scoped>\n",
       "    .dataframe tbody tr th:only-of-type {\n",
       "        vertical-align: middle;\n",
       "    }\n",
       "\n",
       "    .dataframe tbody tr th {\n",
       "        vertical-align: top;\n",
       "    }\n",
       "\n",
       "    .dataframe thead th {\n",
       "        text-align: right;\n",
       "    }\n",
       "</style>\n",
       "<table border=\"1\" class=\"dataframe\">\n",
       "  <thead>\n",
       "    <tr style=\"text-align: right;\">\n",
       "      <th></th>\n",
       "      <th>TransactionDate</th>\n",
       "      <th>HouseAge</th>\n",
       "      <th>DistanceToStation</th>\n",
       "      <th>NumberOfPubs</th>\n",
       "      <th>PostCode</th>\n",
       "      <th>HousePrice</th>\n",
       "    </tr>\n",
       "    <tr>\n",
       "      <th>ID</th>\n",
       "      <th></th>\n",
       "      <th></th>\n",
       "      <th></th>\n",
       "      <th></th>\n",
       "      <th></th>\n",
       "      <th></th>\n",
       "    </tr>\n",
       "  </thead>\n",
       "  <tbody>\n",
       "    <tr>\n",
       "      <th>794</th>\n",
       "      <td>2020.03</td>\n",
       "      <td>41.0</td>\n",
       "      <td>282.951181</td>\n",
       "      <td>8.0</td>\n",
       "      <td>5213.0</td>\n",
       "      <td>471805</td>\n",
       "    </tr>\n",
       "    <tr>\n",
       "      <th>2833</th>\n",
       "      <td>2020.02</td>\n",
       "      <td>12.0</td>\n",
       "      <td>1586.124721</td>\n",
       "      <td>1.0</td>\n",
       "      <td>5222.0</td>\n",
       "      <td>296951</td>\n",
       "    </tr>\n",
       "    <tr>\n",
       "      <th>3026</th>\n",
       "      <td>2020.10</td>\n",
       "      <td>17.0</td>\n",
       "      <td>1847.086970</td>\n",
       "      <td>3.0</td>\n",
       "      <td>5222.0</td>\n",
       "      <td>218155</td>\n",
       "    </tr>\n",
       "    <tr>\n",
       "      <th>3128</th>\n",
       "      <td>2019.10</td>\n",
       "      <td>32.0</td>\n",
       "      <td>1254.952795</td>\n",
       "      <td>0.0</td>\n",
       "      <td>5217.0</td>\n",
       "      <td>99830</td>\n",
       "    </tr>\n",
       "    <tr>\n",
       "      <th>5117</th>\n",
       "      <td>2020.10</td>\n",
       "      <td>18.0</td>\n",
       "      <td>1366.663705</td>\n",
       "      <td>1.0</td>\n",
       "      <td>5222.0</td>\n",
       "      <td>310561</td>\n",
       "    </tr>\n",
       "    <tr>\n",
       "      <th>8471</th>\n",
       "      <td>2021.07</td>\n",
       "      <td>9.0</td>\n",
       "      <td>505.861071</td>\n",
       "      <td>1.0</td>\n",
       "      <td>5222.0</td>\n",
       "      <td>530881</td>\n",
       "    </tr>\n",
       "    <tr>\n",
       "      <th>4267</th>\n",
       "      <td>2019.06</td>\n",
       "      <td>5.0</td>\n",
       "      <td>23.914681</td>\n",
       "      <td>9.0</td>\n",
       "      <td>5614.0</td>\n",
       "      <td>570958</td>\n",
       "    </tr>\n",
       "    <tr>\n",
       "      <th>251</th>\n",
       "      <td>2019.03</td>\n",
       "      <td>3.0</td>\n",
       "      <td>398.529792</td>\n",
       "      <td>5.0</td>\n",
       "      <td>5222.0</td>\n",
       "      <td>595223</td>\n",
       "    </tr>\n",
       "    <tr>\n",
       "      <th>3795</th>\n",
       "      <td>2021.03</td>\n",
       "      <td>10.0</td>\n",
       "      <td>255.671616</td>\n",
       "      <td>5.0</td>\n",
       "      <td>5217.0</td>\n",
       "      <td>461667</td>\n",
       "    </tr>\n",
       "    <tr>\n",
       "      <th>5170</th>\n",
       "      <td>2021.03</td>\n",
       "      <td>10.0</td>\n",
       "      <td>135.738118</td>\n",
       "      <td>7.0</td>\n",
       "      <td>5213.0</td>\n",
       "      <td>371797</td>\n",
       "    </tr>\n",
       "    <tr>\n",
       "      <th>5781</th>\n",
       "      <td>2020.09</td>\n",
       "      <td>15.0</td>\n",
       "      <td>239.233320</td>\n",
       "      <td>5.0</td>\n",
       "      <td>5212.0</td>\n",
       "      <td>357433</td>\n",
       "    </tr>\n",
       "    <tr>\n",
       "      <th>3989</th>\n",
       "      <td>2019.04</td>\n",
       "      <td>17.0</td>\n",
       "      <td>3992.534024</td>\n",
       "      <td>0.0</td>\n",
       "      <td>5614.0</td>\n",
       "      <td>162301</td>\n",
       "    </tr>\n",
       "    <tr>\n",
       "      <th>7634</th>\n",
       "      <td>2020.06</td>\n",
       "      <td>14.0</td>\n",
       "      <td>3959.322710</td>\n",
       "      <td>0.0</td>\n",
       "      <td>5614.0</td>\n",
       "      <td>265421</td>\n",
       "    </tr>\n",
       "    <tr>\n",
       "      <th>2870</th>\n",
       "      <td>2021.01</td>\n",
       "      <td>32.0</td>\n",
       "      <td>407.255660</td>\n",
       "      <td>6.0</td>\n",
       "      <td>5213.0</td>\n",
       "      <td>238868</td>\n",
       "    </tr>\n",
       "    <tr>\n",
       "      <th>6633</th>\n",
       "      <td>2019.05</td>\n",
       "      <td>1.0</td>\n",
       "      <td>237.427007</td>\n",
       "      <td>6.0</td>\n",
       "      <td>5222.0</td>\n",
       "      <td>526574</td>\n",
       "    </tr>\n",
       "    <tr>\n",
       "      <th>2464</th>\n",
       "      <td>2021.03</td>\n",
       "      <td>6.0</td>\n",
       "      <td>58.918596</td>\n",
       "      <td>5.0</td>\n",
       "      <td>5222.0</td>\n",
       "      <td>722874</td>\n",
       "    </tr>\n",
       "    <tr>\n",
       "      <th>3352</th>\n",
       "      <td>2021.11</td>\n",
       "      <td>6.0</td>\n",
       "      <td>48.273725</td>\n",
       "      <td>9.0</td>\n",
       "      <td>5217.0</td>\n",
       "      <td>550627</td>\n",
       "    </tr>\n",
       "    <tr>\n",
       "      <th>528</th>\n",
       "      <td>2021.04</td>\n",
       "      <td>14.0</td>\n",
       "      <td>2033.095094</td>\n",
       "      <td>3.0</td>\n",
       "      <td>5212.0</td>\n",
       "      <td>153573</td>\n",
       "    </tr>\n",
       "    <tr>\n",
       "      <th>1233</th>\n",
       "      <td>2021.06</td>\n",
       "      <td>12.0</td>\n",
       "      <td>335.927541</td>\n",
       "      <td>1.0</td>\n",
       "      <td>5213.0</td>\n",
       "      <td>250524</td>\n",
       "    </tr>\n",
       "  </tbody>\n",
       "</table>\n",
       "</div>"
      ],
      "text/plain": [
       "      TransactionDate  HouseAge  DistanceToStation  NumberOfPubs  PostCode  \\\n",
       "ID                                                                           \n",
       "794           2020.03      41.0         282.951181           8.0    5213.0   \n",
       "2833          2020.02      12.0        1586.124721           1.0    5222.0   \n",
       "3026          2020.10      17.0        1847.086970           3.0    5222.0   \n",
       "3128          2019.10      32.0        1254.952795           0.0    5217.0   \n",
       "5117          2020.10      18.0        1366.663705           1.0    5222.0   \n",
       "8471          2021.07       9.0         505.861071           1.0    5222.0   \n",
       "4267          2019.06       5.0          23.914681           9.0    5614.0   \n",
       "251           2019.03       3.0         398.529792           5.0    5222.0   \n",
       "3795          2021.03      10.0         255.671616           5.0    5217.0   \n",
       "5170          2021.03      10.0         135.738118           7.0    5213.0   \n",
       "5781          2020.09      15.0         239.233320           5.0    5212.0   \n",
       "3989          2019.04      17.0        3992.534024           0.0    5614.0   \n",
       "7634          2020.06      14.0        3959.322710           0.0    5614.0   \n",
       "2870          2021.01      32.0         407.255660           6.0    5213.0   \n",
       "6633          2019.05       1.0         237.427007           6.0    5222.0   \n",
       "2464          2021.03       6.0          58.918596           5.0    5222.0   \n",
       "3352          2021.11       6.0          48.273725           9.0    5217.0   \n",
       "528           2021.04      14.0        2033.095094           3.0    5212.0   \n",
       "1233          2021.06      12.0         335.927541           1.0    5213.0   \n",
       "\n",
       "     HousePrice  \n",
       "ID               \n",
       "794      471805  \n",
       "2833     296951  \n",
       "3026     218155  \n",
       "3128      99830  \n",
       "5117     310561  \n",
       "8471     530881  \n",
       "4267     570958  \n",
       "251      595223  \n",
       "3795     461667  \n",
       "5170     371797  \n",
       "5781     357433  \n",
       "3989     162301  \n",
       "7634     265421  \n",
       "2870     238868  \n",
       "6633     526574  \n",
       "2464     722874  \n",
       "3352     550627  \n",
       "528      153573  \n",
       "1233     250524  "
      ]
     },
     "execution_count": 66,
     "metadata": {},
     "output_type": "execute_result"
    }
   ],
   "source": [
    "train.head(19) # see the trian partition"
   ]
  },
  {
   "cell_type": "markdown",
   "id": "e5bbec98",
   "metadata": {},
   "source": [
    "### EDA (Exploratory Data Analysis)\n",
    "\n",
    "#### EDA.1 (Bird's Eye View)\n",
    "\n",
    "We now are in the most important part, exploratory data analysis.  We will do univariate analyss, that is the analysis of the objective value vs the other columns and bivariate analysis graphs using in both cases both, numerical and categorical data, but this time is only numerical data so we could continue the univariate.\n",
    "\n",
    "The EDA will lead us to find again, as stated, insights of the data and also find those outliers that will be handled later to not affect the model.  Also, with EDA, we will make the dataset more cleaner with transformations before we feed in our machine learning algorithm leading to a better model.\n",
    "\n",
    "<img src=\"img/eda.png\" width=\"30%\" height=\"100%\">\n",
    "\n",
    "Let's have a look at first at the data types"
   ]
  },
  {
   "cell_type": "code",
   "execution_count": 67,
   "id": "396de263",
   "metadata": {},
   "outputs": [
    {
     "data": {
      "text/plain": [
       "TransactionDate      float64\n",
       "HouseAge             float64\n",
       "DistanceToStation    float64\n",
       "NumberOfPubs         float64\n",
       "PostCode             float64\n",
       "HousePrice            object\n",
       "dtype: object"
      ]
     },
     "execution_count": 67,
     "metadata": {},
     "output_type": "execute_result"
    }
   ],
   "source": [
    "train.dtypes # see data types"
   ]
  },
  {
   "cell_type": "code",
   "execution_count": 68,
   "id": "0923a96d",
   "metadata": {},
   "outputs": [
    {
     "data": {
      "text/html": [
       "<div>\n",
       "<style scoped>\n",
       "    .dataframe tbody tr th:only-of-type {\n",
       "        vertical-align: middle;\n",
       "    }\n",
       "\n",
       "    .dataframe tbody tr th {\n",
       "        vertical-align: top;\n",
       "    }\n",
       "\n",
       "    .dataframe thead th {\n",
       "        text-align: right;\n",
       "    }\n",
       "</style>\n",
       "<table border=\"1\" class=\"dataframe\">\n",
       "  <thead>\n",
       "    <tr style=\"text-align: right;\">\n",
       "      <th></th>\n",
       "      <th>TransactionDate</th>\n",
       "      <th>HouseAge</th>\n",
       "      <th>DistanceToStation</th>\n",
       "      <th>NumberOfPubs</th>\n",
       "      <th>PostCode</th>\n",
       "      <th>HousePrice</th>\n",
       "    </tr>\n",
       "    <tr>\n",
       "      <th>ID</th>\n",
       "      <th></th>\n",
       "      <th></th>\n",
       "      <th></th>\n",
       "      <th></th>\n",
       "      <th></th>\n",
       "      <th></th>\n",
       "    </tr>\n",
       "  </thead>\n",
       "  <tbody>\n",
       "    <tr>\n",
       "      <th>0</th>\n",
       "      <td>2020.12</td>\n",
       "      <td>17.0</td>\n",
       "      <td>467.644775</td>\n",
       "      <td>4.0</td>\n",
       "      <td>5222.0</td>\n",
       "      <td>467104</td>\n",
       "    </tr>\n",
       "    <tr>\n",
       "      <th>1</th>\n",
       "      <td>2021.04</td>\n",
       "      <td>36.0</td>\n",
       "      <td>659.924963</td>\n",
       "      <td>3.0</td>\n",
       "      <td>5222.0</td>\n",
       "      <td>547714</td>\n",
       "    </tr>\n",
       "  </tbody>\n",
       "</table>\n",
       "</div>"
      ],
      "text/plain": [
       "    TransactionDate  HouseAge  DistanceToStation  NumberOfPubs  PostCode  \\\n",
       "ID                                                                         \n",
       "0           2020.12      17.0         467.644775           4.0    5222.0   \n",
       "1           2021.04      36.0         659.924963           3.0    5222.0   \n",
       "\n",
       "   HousePrice  \n",
       "ID             \n",
       "0      467104  \n",
       "1      547714  "
      ]
     },
     "execution_count": 68,
     "metadata": {},
     "output_type": "execute_result"
    }
   ],
   "source": [
    "df.head(2) # see the first two rows"
   ]
  },
  {
   "cell_type": "markdown",
   "id": "ba2c50ee",
   "metadata": {},
   "source": [
    "If you inspect each row correctly one by one you see at first that the `TransactionDate` must be changed from `year.month` to `year` and `month`, and better `month` to be categorical to find a better relationship, not numerical.  \n",
    "\n",
    "Next following the order we see the house age to be numerical, and so on, but if you see the `PostCode`, you will see that even if is tagged as float it must be categorical, because if we leave this marked as a number probably our machine learning model will confuse saying it is a relationship between the PostCode and the HousePrice is more important to one post code numerical value is more important to another related to the behaviour of the customer.\n",
    "\n",
    "Same of `HousePrice` must be changed from `object` to `int`. So we need to do more curation over the dataset."
   ]
  },
  {
   "cell_type": "code",
   "execution_count": 69,
   "id": "ba5e5418",
   "metadata": {},
   "outputs": [
    {
     "name": "stdout",
     "output_type": "stream",
     "text": [
      "<class 'pandas.core.frame.DataFrame'>\n",
      "Int64Index: 7484 entries, 794 to 7270\n",
      "Data columns (total 6 columns):\n",
      " #   Column             Non-Null Count  Dtype  \n",
      "---  ------             --------------  -----  \n",
      " 0   TransactionDate    7482 non-null   float64\n",
      " 1   HouseAge           7480 non-null   float64\n",
      " 2   DistanceToStation  7482 non-null   float64\n",
      " 3   NumberOfPubs       7483 non-null   float64\n",
      " 4   PostCode           7484 non-null   float64\n",
      " 5   HousePrice         7479 non-null   object \n",
      "dtypes: float64(5), object(1)\n",
      "memory usage: 409.3+ KB\n"
     ]
    }
   ],
   "source": [
    "train.info() # get more general info of the dataset to see if we have some nulls"
   ]
  },
  {
   "cell_type": "markdown",
   "id": "a62014bb",
   "metadata": {},
   "source": [
    "We know we will see the summary statistics of numerical features and later with the categorical data for analyzing it too."
   ]
  },
  {
   "cell_type": "code",
   "execution_count": 70,
   "id": "71c3b934",
   "metadata": {},
   "outputs": [
    {
     "data": {
      "text/html": [
       "<div>\n",
       "<style scoped>\n",
       "    .dataframe tbody tr th:only-of-type {\n",
       "        vertical-align: middle;\n",
       "    }\n",
       "\n",
       "    .dataframe tbody tr th {\n",
       "        vertical-align: top;\n",
       "    }\n",
       "\n",
       "    .dataframe thead th {\n",
       "        text-align: right;\n",
       "    }\n",
       "</style>\n",
       "<table border=\"1\" class=\"dataframe\">\n",
       "  <thead>\n",
       "    <tr style=\"text-align: right;\">\n",
       "      <th></th>\n",
       "      <th>TransactionDate</th>\n",
       "      <th>HouseAge</th>\n",
       "      <th>DistanceToStation</th>\n",
       "      <th>NumberOfPubs</th>\n",
       "      <th>PostCode</th>\n",
       "    </tr>\n",
       "  </thead>\n",
       "  <tbody>\n",
       "    <tr>\n",
       "      <th>count</th>\n",
       "      <td>7482.000000</td>\n",
       "      <td>7480.000000</td>\n",
       "      <td>7482.000000</td>\n",
       "      <td>7.483000e+03</td>\n",
       "      <td>7484.000000</td>\n",
       "    </tr>\n",
       "    <tr>\n",
       "      <th>mean</th>\n",
       "      <td>2020.062999</td>\n",
       "      <td>17.445856</td>\n",
       "      <td>1100.440755</td>\n",
       "      <td>6.722479e+02</td>\n",
       "      <td>5294.696686</td>\n",
       "    </tr>\n",
       "    <tr>\n",
       "      <th>std</th>\n",
       "      <td>0.816790</td>\n",
       "      <td>11.434859</td>\n",
       "      <td>1274.683983</td>\n",
       "      <td>5.780051e+04</td>\n",
       "      <td>158.514577</td>\n",
       "    </tr>\n",
       "    <tr>\n",
       "      <th>min</th>\n",
       "      <td>2019.010000</td>\n",
       "      <td>0.000000</td>\n",
       "      <td>23.914681</td>\n",
       "      <td>0.000000e+00</td>\n",
       "      <td>5212.000000</td>\n",
       "    </tr>\n",
       "    <tr>\n",
       "      <th>25%</th>\n",
       "      <td>2019.090000</td>\n",
       "      <td>9.000000</td>\n",
       "      <td>268.604631</td>\n",
       "      <td>1.000000e+00</td>\n",
       "      <td>5213.000000</td>\n",
       "    </tr>\n",
       "    <tr>\n",
       "      <th>50%</th>\n",
       "      <td>2020.070000</td>\n",
       "      <td>16.000000</td>\n",
       "      <td>551.667602</td>\n",
       "      <td>4.000000e+00</td>\n",
       "      <td>5217.000000</td>\n",
       "    </tr>\n",
       "    <tr>\n",
       "      <th>75%</th>\n",
       "      <td>2021.040000</td>\n",
       "      <td>28.000000</td>\n",
       "      <td>1537.741692</td>\n",
       "      <td>6.000000e+00</td>\n",
       "      <td>5222.000000</td>\n",
       "    </tr>\n",
       "    <tr>\n",
       "      <th>max</th>\n",
       "      <td>2021.120000</td>\n",
       "      <td>43.000000</td>\n",
       "      <td>6486.256457</td>\n",
       "      <td>4.999999e+06</td>\n",
       "      <td>5614.000000</td>\n",
       "    </tr>\n",
       "  </tbody>\n",
       "</table>\n",
       "</div>"
      ],
      "text/plain": [
       "       TransactionDate     HouseAge  DistanceToStation  NumberOfPubs  \\\n",
       "count      7482.000000  7480.000000        7482.000000  7.483000e+03   \n",
       "mean       2020.062999    17.445856        1100.440755  6.722479e+02   \n",
       "std           0.816790    11.434859        1274.683983  5.780051e+04   \n",
       "min        2019.010000     0.000000          23.914681  0.000000e+00   \n",
       "25%        2019.090000     9.000000         268.604631  1.000000e+00   \n",
       "50%        2020.070000    16.000000         551.667602  4.000000e+00   \n",
       "75%        2021.040000    28.000000        1537.741692  6.000000e+00   \n",
       "max        2021.120000    43.000000        6486.256457  4.999999e+06   \n",
       "\n",
       "          PostCode  \n",
       "count  7484.000000  \n",
       "mean   5294.696686  \n",
       "std     158.514577  \n",
       "min    5212.000000  \n",
       "25%    5213.000000  \n",
       "50%    5217.000000  \n",
       "75%    5222.000000  \n",
       "max    5614.000000  "
      ]
     },
     "execution_count": 70,
     "metadata": {},
     "output_type": "execute_result"
    }
   ],
   "source": [
    "train.describe() # summary statistics (numerical)"
   ]
  },
  {
   "cell_type": "markdown",
   "id": "1f4654c5",
   "metadata": {},
   "source": [
    "Looking at the numerical features we see, in example that `DistanceToStation standard deviation` is a little high, that means that the data is wide and disperse, and finally look at the `NumberOfPubs`, there is a maximun value that is `1000 times` bigger than the mean, we definitely need to have a look over the data to see more about it.\n",
    "\n",
    "Let's do some basic transformations of the data to fit it to proper values, i.e. `PostCode` as str."
   ]
  },
  {
   "cell_type": "code",
   "execution_count": 71,
   "id": "315eceee",
   "metadata": {},
   "outputs": [],
   "source": [
    "train.loc[:, 'PostCode'] = train.loc[:, 'PostCode'].astype(str)               # assign strings and prevent warning of code\n",
    "train.loc[:, 'TransactionDate'] = train.loc[:, 'TransactionDate'].astype(str)"
   ]
  },
  {
   "cell_type": "markdown",
   "id": "da0b2430",
   "metadata": {},
   "source": [
    "Before continuing you noted that i did note change the `HousePrice` to float, if we inspect the dataset, we will see a bit later that we have some odd values `??`.  So we will continue analyzing and get back from it later."
   ]
  },
  {
   "cell_type": "code",
   "execution_count": 72,
   "id": "38e6c178",
   "metadata": {},
   "outputs": [
    {
     "data": {
      "text/html": [
       "<div>\n",
       "<style scoped>\n",
       "    .dataframe tbody tr th:only-of-type {\n",
       "        vertical-align: middle;\n",
       "    }\n",
       "\n",
       "    .dataframe tbody tr th {\n",
       "        vertical-align: top;\n",
       "    }\n",
       "\n",
       "    .dataframe thead th {\n",
       "        text-align: right;\n",
       "    }\n",
       "</style>\n",
       "<table border=\"1\" class=\"dataframe\">\n",
       "  <thead>\n",
       "    <tr style=\"text-align: right;\">\n",
       "      <th></th>\n",
       "      <th>TransactionDate</th>\n",
       "      <th>HouseAge</th>\n",
       "      <th>DistanceToStation</th>\n",
       "      <th>NumberOfPubs</th>\n",
       "      <th>PostCode</th>\n",
       "      <th>HousePrice</th>\n",
       "    </tr>\n",
       "    <tr>\n",
       "      <th>ID</th>\n",
       "      <th></th>\n",
       "      <th></th>\n",
       "      <th></th>\n",
       "      <th></th>\n",
       "      <th></th>\n",
       "      <th></th>\n",
       "    </tr>\n",
       "  </thead>\n",
       "  <tbody>\n",
       "    <tr>\n",
       "      <th>5620</th>\n",
       "      <td>2021.04</td>\n",
       "      <td>34.0</td>\n",
       "      <td>460.489917</td>\n",
       "      <td>5.0</td>\n",
       "      <td>5222.0</td>\n",
       "      <td>??</td>\n",
       "    </tr>\n",
       "    <tr>\n",
       "      <th>8718</th>\n",
       "      <td>2020.08</td>\n",
       "      <td>16.0</td>\n",
       "      <td>122.432508</td>\n",
       "      <td>5.0</td>\n",
       "      <td>5213.0</td>\n",
       "      <td>??</td>\n",
       "    </tr>\n",
       "  </tbody>\n",
       "</table>\n",
       "</div>"
      ],
      "text/plain": [
       "     TransactionDate  HouseAge  DistanceToStation  NumberOfPubs PostCode  \\\n",
       "ID                                                                         \n",
       "5620         2021.04      34.0         460.489917           5.0   5222.0   \n",
       "8718         2020.08      16.0         122.432508           5.0   5213.0   \n",
       "\n",
       "     HousePrice  \n",
       "ID               \n",
       "5620         ??  \n",
       "8718         ??  "
      ]
     },
     "execution_count": 72,
     "metadata": {},
     "output_type": "execute_result"
    }
   ],
   "source": [
    "train.loc[train.HousePrice=='??']"
   ]
  },
  {
   "cell_type": "code",
   "execution_count": 73,
   "id": "dca25236",
   "metadata": {},
   "outputs": [
    {
     "data": {
      "text/html": [
       "<div>\n",
       "<style scoped>\n",
       "    .dataframe tbody tr th:only-of-type {\n",
       "        vertical-align: middle;\n",
       "    }\n",
       "\n",
       "    .dataframe tbody tr th {\n",
       "        vertical-align: top;\n",
       "    }\n",
       "\n",
       "    .dataframe thead th {\n",
       "        text-align: right;\n",
       "    }\n",
       "</style>\n",
       "<table border=\"1\" class=\"dataframe\">\n",
       "  <thead>\n",
       "    <tr style=\"text-align: right;\">\n",
       "      <th></th>\n",
       "      <th>TransactionDate</th>\n",
       "      <th>PostCode</th>\n",
       "      <th>HousePrice</th>\n",
       "    </tr>\n",
       "  </thead>\n",
       "  <tbody>\n",
       "    <tr>\n",
       "      <th>count</th>\n",
       "      <td>7484</td>\n",
       "      <td>7484</td>\n",
       "      <td>7479</td>\n",
       "    </tr>\n",
       "    <tr>\n",
       "      <th>unique</th>\n",
       "      <td>37</td>\n",
       "      <td>5</td>\n",
       "      <td>7426</td>\n",
       "    </tr>\n",
       "    <tr>\n",
       "      <th>top</th>\n",
       "      <td>2021.06</td>\n",
       "      <td>5222.0</td>\n",
       "      <td>401746</td>\n",
       "    </tr>\n",
       "    <tr>\n",
       "      <th>freq</th>\n",
       "      <td>243</td>\n",
       "      <td>1544</td>\n",
       "      <td>2</td>\n",
       "    </tr>\n",
       "  </tbody>\n",
       "</table>\n",
       "</div>"
      ],
      "text/plain": [
       "       TransactionDate PostCode HousePrice\n",
       "count             7484     7484       7479\n",
       "unique              37        5       7426\n",
       "top            2021.06   5222.0     401746\n",
       "freq               243     1544          2"
      ]
     },
     "execution_count": 73,
     "metadata": {},
     "output_type": "execute_result"
    }
   ],
   "source": [
    "train.describe(include=object) # summary statistics (categorical)"
   ]
  },
  {
   "cell_type": "markdown",
   "id": "d8c044d4",
   "metadata": {},
   "source": [
    "#### EDA.2 (Visualizing Distributions)\n",
    "\n",
    "We will now analyze some numerical and categorical attributes visually to see the distributions for visualization using libraries like seaborn that have a great visualization and is simpler that matplotlib.\n",
    "\n",
    "<img src=\"img/matplotlib.png\" width=\"70%\" height=\"100%\">\n",
    "\n",
    "<img src=\"img/seaborn.png\" width=\"70%\" height=\"100%\">"
   ]
  },
  {
   "cell_type": "markdown",
   "id": "d45bb6c5",
   "metadata": {},
   "source": [
    "Is a good idea to see data distributions, so for example is good if we have image data to see distribution over the same data and if we got tabular data see the distribution of the columns and so on."
   ]
  },
  {
   "cell_type": "code",
   "execution_count": 74,
   "id": "8b8be4bb",
   "metadata": {},
   "outputs": [
    {
     "data": {
      "image/png": "[encoded data removed]",
      "text/plain": [
       "<Figure size 1200x600 with 4 Axes>"
      ]
     },
     "metadata": {},
     "output_type": "display_data"
    }
   ],
   "source": [
    "train.hist(figsize=(12,6), bins=50); # plot distributions of numerical data"
   ]
  },
  {
   "cell_type": "markdown",
   "id": "9b61e2df",
   "metadata": {},
   "source": [
    "- Looking the `HouseAge` we see a widespread distribution.\n",
    "- For `DistanceToStation` we see that probably we could improve it with a `log transform`\n",
    "- `NumberOfPubs` definitely has an outlier that probably we need to remove because majority of data is near 0."
   ]
  },
  {
   "cell_type": "markdown",
   "id": "23c92901",
   "metadata": {},
   "source": [
    "#### EDA.3 (Looking why the houseprice has some odd values)\n",
    "\n",
    "If we remember some lines above we saw that `HousePrice` has two `??` values, let's find why and fix it."
   ]
  },
  {
   "cell_type": "code",
   "execution_count": 75,
   "id": "b929c233",
   "metadata": {},
   "outputs": [
    {
     "data": {
      "text/html": [
       "<div>\n",
       "<style scoped>\n",
       "    .dataframe tbody tr th:only-of-type {\n",
       "        vertical-align: middle;\n",
       "    }\n",
       "\n",
       "    .dataframe tbody tr th {\n",
       "        vertical-align: top;\n",
       "    }\n",
       "\n",
       "    .dataframe thead th {\n",
       "        text-align: right;\n",
       "    }\n",
       "</style>\n",
       "<table border=\"1\" class=\"dataframe\">\n",
       "  <thead>\n",
       "    <tr style=\"text-align: right;\">\n",
       "      <th></th>\n",
       "      <th>TransactionDate</th>\n",
       "      <th>HouseAge</th>\n",
       "      <th>DistanceToStation</th>\n",
       "      <th>NumberOfPubs</th>\n",
       "      <th>PostCode</th>\n",
       "      <th>HousePrice</th>\n",
       "    </tr>\n",
       "    <tr>\n",
       "      <th>ID</th>\n",
       "      <th></th>\n",
       "      <th></th>\n",
       "      <th></th>\n",
       "      <th></th>\n",
       "      <th></th>\n",
       "      <th></th>\n",
       "    </tr>\n",
       "  </thead>\n",
       "  <tbody>\n",
       "    <tr>\n",
       "      <th>5620</th>\n",
       "      <td>2021.04</td>\n",
       "      <td>34.0</td>\n",
       "      <td>460.489917</td>\n",
       "      <td>5.0</td>\n",
       "      <td>5222.0</td>\n",
       "      <td>??</td>\n",
       "    </tr>\n",
       "    <tr>\n",
       "      <th>8718</th>\n",
       "      <td>2020.08</td>\n",
       "      <td>16.0</td>\n",
       "      <td>122.432508</td>\n",
       "      <td>5.0</td>\n",
       "      <td>5213.0</td>\n",
       "      <td>??</td>\n",
       "    </tr>\n",
       "  </tbody>\n",
       "</table>\n",
       "</div>"
      ],
      "text/plain": [
       "     TransactionDate  HouseAge  DistanceToStation  NumberOfPubs PostCode  \\\n",
       "ID                                                                         \n",
       "5620         2021.04      34.0         460.489917           5.0   5222.0   \n",
       "8718         2020.08      16.0         122.432508           5.0   5213.0   \n",
       "\n",
       "     HousePrice  \n",
       "ID               \n",
       "5620         ??  \n",
       "8718         ??  "
      ]
     },
     "execution_count": 75,
     "metadata": {},
     "output_type": "execute_result"
    }
   ],
   "source": [
    "train.loc[train.HousePrice=='??'] # filter for all rows containing HousePrice = ??"
   ]
  },
  {
   "cell_type": "markdown",
   "id": "ff215673",
   "metadata": {},
   "source": [
    "OK, usually i did not drop these rows, but because probably the data is not significant, if we saw the describe previously, it will not lead us in odd situations on the modeling, so let's do it."
   ]
  },
  {
   "cell_type": "code",
   "execution_count": 76,
   "id": "a92f3d18",
   "metadata": {},
   "outputs": [],
   "source": [
    "train = train[train.HousePrice!='??'] # drop these rows"
   ]
  },
  {
   "cell_type": "code",
   "execution_count": 77,
   "id": "3614010e",
   "metadata": {},
   "outputs": [
    {
     "data": {
      "text/html": [
       "<div>\n",
       "<style scoped>\n",
       "    .dataframe tbody tr th:only-of-type {\n",
       "        vertical-align: middle;\n",
       "    }\n",
       "\n",
       "    .dataframe tbody tr th {\n",
       "        vertical-align: top;\n",
       "    }\n",
       "\n",
       "    .dataframe thead th {\n",
       "        text-align: right;\n",
       "    }\n",
       "</style>\n",
       "<table border=\"1\" class=\"dataframe\">\n",
       "  <thead>\n",
       "    <tr style=\"text-align: right;\">\n",
       "      <th></th>\n",
       "      <th>TransactionDate</th>\n",
       "      <th>HouseAge</th>\n",
       "      <th>DistanceToStation</th>\n",
       "      <th>NumberOfPubs</th>\n",
       "      <th>PostCode</th>\n",
       "      <th>HousePrice</th>\n",
       "    </tr>\n",
       "    <tr>\n",
       "      <th>ID</th>\n",
       "      <th></th>\n",
       "      <th></th>\n",
       "      <th></th>\n",
       "      <th></th>\n",
       "      <th></th>\n",
       "      <th></th>\n",
       "    </tr>\n",
       "  </thead>\n",
       "  <tbody>\n",
       "  </tbody>\n",
       "</table>\n",
       "</div>"
      ],
      "text/plain": [
       "Empty DataFrame\n",
       "Columns: [TransactionDate, HouseAge, DistanceToStation, NumberOfPubs, PostCode, HousePrice]\n",
       "Index: []"
      ]
     },
     "execution_count": 77,
     "metadata": {},
     "output_type": "execute_result"
    }
   ],
   "source": [
    "train.loc[train.HousePrice=='??'] # validation (see if the rows where dropped)"
   ]
  },
  {
   "cell_type": "code",
   "execution_count": 78,
   "id": "53919909",
   "metadata": {},
   "outputs": [
    {
     "name": "stderr",
     "output_type": "stream",
     "text": [
      "C:\\Users\\Denys\\AppData\\Local\\Temp\\ipykernel_10436\\2111134898.py:1: DeprecationWarning: In a future version, `df.iloc[:, i] = newvals` will attempt to set the values inplace instead of always setting a new array. To retain the old behavior, use either `df[df.columns[i]] = newvals` or, if columns are non-unique, `df.isetitem(i, newvals)`\n",
      "  train.loc[:, 'HousePrice'] = train.loc[:, 'HousePrice'].astype(float) # transform all rows to float (prevent warning)\n"
     ]
    }
   ],
   "source": [
    "train.loc[:, 'HousePrice'] = train.loc[:, 'HousePrice'].astype(float) # transform all rows to float (prevent warning)"
   ]
  },
  {
   "cell_type": "markdown",
   "id": "c6f06e40",
   "metadata": {},
   "source": [
    "OK, let's see the boxplot to `HousePrice` to see the distributions"
   ]
  },
  {
   "cell_type": "code",
   "execution_count": 79,
   "id": "ce5795e2",
   "metadata": {},
   "outputs": [
    {
     "data": {
      "image/png": "[encoded data removed]",
      "text/plain": [
       "<Figure size 640x480 with 1 Axes>"
      ]
     },
     "metadata": {},
     "output_type": "display_data"
    }
   ],
   "source": [
    "sns.boxplot(data=train, x='HousePrice');"
   ]
  },
  {
   "cell_type": "markdown",
   "id": "94aa0cb1",
   "metadata": {},
   "source": [
    "Interestingly we see that we have a very big outlier in the dataset, so we need to preparate more this column"
   ]
  },
  {
   "cell_type": "code",
   "execution_count": 80,
   "id": "48848b75",
   "metadata": {},
   "outputs": [
    {
     "data": {
      "text/html": [
       "<div>\n",
       "<style scoped>\n",
       "    .dataframe tbody tr th:only-of-type {\n",
       "        vertical-align: middle;\n",
       "    }\n",
       "\n",
       "    .dataframe tbody tr th {\n",
       "        vertical-align: top;\n",
       "    }\n",
       "\n",
       "    .dataframe thead th {\n",
       "        text-align: right;\n",
       "    }\n",
       "</style>\n",
       "<table border=\"1\" class=\"dataframe\">\n",
       "  <thead>\n",
       "    <tr style=\"text-align: right;\">\n",
       "      <th></th>\n",
       "      <th>TransactionDate</th>\n",
       "      <th>HouseAge</th>\n",
       "      <th>DistanceToStation</th>\n",
       "      <th>NumberOfPubs</th>\n",
       "      <th>PostCode</th>\n",
       "      <th>HousePrice</th>\n",
       "    </tr>\n",
       "    <tr>\n",
       "      <th>ID</th>\n",
       "      <th></th>\n",
       "      <th></th>\n",
       "      <th></th>\n",
       "      <th></th>\n",
       "      <th></th>\n",
       "      <th></th>\n",
       "    </tr>\n",
       "  </thead>\n",
       "  <tbody>\n",
       "    <tr>\n",
       "      <th>8445</th>\n",
       "      <td>2021.05</td>\n",
       "      <td>0.0</td>\n",
       "      <td>276.789752</td>\n",
       "      <td>9.0</td>\n",
       "      <td>5222.0</td>\n",
       "      <td>8989772.0</td>\n",
       "    </tr>\n",
       "  </tbody>\n",
       "</table>\n",
       "</div>"
      ],
      "text/plain": [
       "     TransactionDate  HouseAge  DistanceToStation  NumberOfPubs PostCode  \\\n",
       "ID                                                                         \n",
       "8445         2021.05       0.0         276.789752           9.0   5222.0   \n",
       "\n",
       "      HousePrice  \n",
       "ID                \n",
       "8445   8989772.0  "
      ]
     },
     "execution_count": 80,
     "metadata": {},
     "output_type": "execute_result"
    }
   ],
   "source": [
    "train.loc[train.HousePrice > 8e6]"
   ]
  },
  {
   "cell_type": "code",
   "execution_count": 81,
   "id": "a4bc84f7",
   "metadata": {},
   "outputs": [],
   "source": [
    "train = train.drop(8445)"
   ]
  },
  {
   "cell_type": "markdown",
   "id": "30a21bc8",
   "metadata": {},
   "source": [
    "#### EDA.4 (Handling the outliers)\n",
    "\n",
    "We will have to sor the values of the column in study to see what's happening"
   ]
  },
  {
   "cell_type": "code",
   "execution_count": 82,
   "id": "0b921cc6",
   "metadata": {},
   "outputs": [
    {
     "data": {
      "text/html": [
       "<div>\n",
       "<style scoped>\n",
       "    .dataframe tbody tr th:only-of-type {\n",
       "        vertical-align: middle;\n",
       "    }\n",
       "\n",
       "    .dataframe tbody tr th {\n",
       "        vertical-align: top;\n",
       "    }\n",
       "\n",
       "    .dataframe thead th {\n",
       "        text-align: right;\n",
       "    }\n",
       "</style>\n",
       "<table border=\"1\" class=\"dataframe\">\n",
       "  <thead>\n",
       "    <tr style=\"text-align: right;\">\n",
       "      <th></th>\n",
       "      <th>TransactionDate</th>\n",
       "      <th>HouseAge</th>\n",
       "      <th>DistanceToStation</th>\n",
       "      <th>NumberOfPubs</th>\n",
       "      <th>PostCode</th>\n",
       "      <th>HousePrice</th>\n",
       "    </tr>\n",
       "    <tr>\n",
       "      <th>ID</th>\n",
       "      <th></th>\n",
       "      <th></th>\n",
       "      <th></th>\n",
       "      <th></th>\n",
       "      <th></th>\n",
       "      <th></th>\n",
       "    </tr>\n",
       "  </thead>\n",
       "  <tbody>\n",
       "    <tr>\n",
       "      <th>2749</th>\n",
       "      <td>2021.06</td>\n",
       "      <td>9.0</td>\n",
       "      <td>38.864337</td>\n",
       "      <td>1.0</td>\n",
       "      <td>5222.0</td>\n",
       "      <td>1504501.0</td>\n",
       "    </tr>\n",
       "    <tr>\n",
       "      <th>6066</th>\n",
       "      <td>2020.12</td>\n",
       "      <td>10.0</td>\n",
       "      <td>234.680008</td>\n",
       "      <td>1.0</td>\n",
       "      <td>5222.0</td>\n",
       "      <td>1374386.0</td>\n",
       "    </tr>\n",
       "    <tr>\n",
       "      <th>9238</th>\n",
       "      <td>2019.11</td>\n",
       "      <td>10.0</td>\n",
       "      <td>169.424413</td>\n",
       "      <td>1.0</td>\n",
       "      <td>5222.0</td>\n",
       "      <td>1205920.0</td>\n",
       "    </tr>\n",
       "    <tr>\n",
       "      <th>5091</th>\n",
       "      <td>2020.05</td>\n",
       "      <td>10.0</td>\n",
       "      <td>295.072723</td>\n",
       "      <td>1.0</td>\n",
       "      <td>5614.0</td>\n",
       "      <td>1151940.0</td>\n",
       "    </tr>\n",
       "    <tr>\n",
       "      <th>7815</th>\n",
       "      <td>2020.03</td>\n",
       "      <td>10.0</td>\n",
       "      <td>243.985418</td>\n",
       "      <td>1.0</td>\n",
       "      <td>5614.0</td>\n",
       "      <td>1149746.0</td>\n",
       "    </tr>\n",
       "  </tbody>\n",
       "</table>\n",
       "</div>"
      ],
      "text/plain": [
       "     TransactionDate  HouseAge  DistanceToStation  NumberOfPubs PostCode  \\\n",
       "ID                                                                         \n",
       "2749         2021.06       9.0          38.864337           1.0   5222.0   \n",
       "6066         2020.12      10.0         234.680008           1.0   5222.0   \n",
       "9238         2019.11      10.0         169.424413           1.0   5222.0   \n",
       "5091         2020.05      10.0         295.072723           1.0   5614.0   \n",
       "7815         2020.03      10.0         243.985418           1.0   5614.0   \n",
       "\n",
       "      HousePrice  \n",
       "ID                \n",
       "2749   1504501.0  \n",
       "6066   1374386.0  \n",
       "9238   1205920.0  \n",
       "5091   1151940.0  \n",
       "7815   1149746.0  "
      ]
     },
     "execution_count": 82,
     "metadata": {},
     "output_type": "execute_result"
    }
   ],
   "source": [
    "train.sort_values(by='HousePrice', ascending=False).head()"
   ]
  },
  {
   "cell_type": "markdown",
   "id": "e9131565",
   "metadata": {},
   "source": [
    "We are seeing that we have a massive outlier over the HousePrice, so let's first drop it."
   ]
  },
  {
   "cell_type": "code",
   "execution_count": 83,
   "id": "d6d5e014",
   "metadata": {},
   "outputs": [
    {
     "data": {
      "text/html": [
       "<div>\n",
       "<style scoped>\n",
       "    .dataframe tbody tr th:only-of-type {\n",
       "        vertical-align: middle;\n",
       "    }\n",
       "\n",
       "    .dataframe tbody tr th {\n",
       "        vertical-align: top;\n",
       "    }\n",
       "\n",
       "    .dataframe thead th {\n",
       "        text-align: right;\n",
       "    }\n",
       "</style>\n",
       "<table border=\"1\" class=\"dataframe\">\n",
       "  <thead>\n",
       "    <tr style=\"text-align: right;\">\n",
       "      <th></th>\n",
       "      <th>TransactionDate</th>\n",
       "      <th>HouseAge</th>\n",
       "      <th>DistanceToStation</th>\n",
       "      <th>NumberOfPubs</th>\n",
       "      <th>PostCode</th>\n",
       "      <th>HousePrice</th>\n",
       "    </tr>\n",
       "    <tr>\n",
       "      <th>ID</th>\n",
       "      <th></th>\n",
       "      <th></th>\n",
       "      <th></th>\n",
       "      <th></th>\n",
       "      <th></th>\n",
       "      <th></th>\n",
       "    </tr>\n",
       "  </thead>\n",
       "  <tbody>\n",
       "    <tr>\n",
       "      <th>48</th>\n",
       "      <td>nan</td>\n",
       "      <td>13.0</td>\n",
       "      <td>1214.171333</td>\n",
       "      <td>1.0</td>\n",
       "      <td>5614.0</td>\n",
       "      <td>NaN</td>\n",
       "    </tr>\n",
       "    <tr>\n",
       "      <th>8103</th>\n",
       "      <td>2019.05</td>\n",
       "      <td>7.0</td>\n",
       "      <td>640.223538</td>\n",
       "      <td>10.0</td>\n",
       "      <td>5217.0</td>\n",
       "      <td>NaN</td>\n",
       "    </tr>\n",
       "    <tr>\n",
       "      <th>32</th>\n",
       "      <td>2021.1</td>\n",
       "      <td>29.0</td>\n",
       "      <td>809.864711</td>\n",
       "      <td>8.0</td>\n",
       "      <td>5222.0</td>\n",
       "      <td>NaN</td>\n",
       "    </tr>\n",
       "    <tr>\n",
       "      <th>8106</th>\n",
       "      <td>2020.04</td>\n",
       "      <td>12.0</td>\n",
       "      <td>62.680175</td>\n",
       "      <td>7.0</td>\n",
       "      <td>5217.0</td>\n",
       "      <td>NaN</td>\n",
       "    </tr>\n",
       "    <tr>\n",
       "      <th>7673</th>\n",
       "      <td>nan</td>\n",
       "      <td>NaN</td>\n",
       "      <td>3830.892098</td>\n",
       "      <td>0.0</td>\n",
       "      <td>5217.0</td>\n",
       "      <td>NaN</td>\n",
       "    </tr>\n",
       "  </tbody>\n",
       "</table>\n",
       "</div>"
      ],
      "text/plain": [
       "     TransactionDate  HouseAge  DistanceToStation  NumberOfPubs PostCode  \\\n",
       "ID                                                                         \n",
       "48               nan      13.0        1214.171333           1.0   5614.0   \n",
       "8103         2019.05       7.0         640.223538          10.0   5217.0   \n",
       "32            2021.1      29.0         809.864711           8.0   5222.0   \n",
       "8106         2020.04      12.0          62.680175           7.0   5217.0   \n",
       "7673             nan       NaN        3830.892098           0.0   5217.0   \n",
       "\n",
       "      HousePrice  \n",
       "ID                \n",
       "48           NaN  \n",
       "8103         NaN  \n",
       "32           NaN  \n",
       "8106         NaN  \n",
       "7673         NaN  "
      ]
     },
     "execution_count": 83,
     "metadata": {},
     "output_type": "execute_result"
    }
   ],
   "source": [
    "train[train.HousePrice.isna()]"
   ]
  },
  {
   "cell_type": "markdown",
   "id": "75fb7a9c",
   "metadata": {},
   "source": [
    "Now as we see we have some nans that we can impute by the algorithm later.\n",
    "\n",
    "#### EDA.5 Analyzing NumberOfPubs"
   ]
  },
  {
   "cell_type": "code",
   "execution_count": 84,
   "id": "4f21c5c4",
   "metadata": {},
   "outputs": [
    {
     "data": {
      "text/html": [
       "<div>\n",
       "<style scoped>\n",
       "    .dataframe tbody tr th:only-of-type {\n",
       "        vertical-align: middle;\n",
       "    }\n",
       "\n",
       "    .dataframe tbody tr th {\n",
       "        vertical-align: top;\n",
       "    }\n",
       "\n",
       "    .dataframe thead th {\n",
       "        text-align: right;\n",
       "    }\n",
       "</style>\n",
       "<table border=\"1\" class=\"dataframe\">\n",
       "  <thead>\n",
       "    <tr style=\"text-align: right;\">\n",
       "      <th></th>\n",
       "      <th>TransactionDate</th>\n",
       "      <th>HouseAge</th>\n",
       "      <th>DistanceToStation</th>\n",
       "      <th>NumberOfPubs</th>\n",
       "      <th>PostCode</th>\n",
       "      <th>HousePrice</th>\n",
       "    </tr>\n",
       "    <tr>\n",
       "      <th>ID</th>\n",
       "      <th></th>\n",
       "      <th></th>\n",
       "      <th></th>\n",
       "      <th></th>\n",
       "      <th></th>\n",
       "      <th></th>\n",
       "    </tr>\n",
       "  </thead>\n",
       "  <tbody>\n",
       "    <tr>\n",
       "      <th>6360</th>\n",
       "      <td>2020.07</td>\n",
       "      <td>33.0</td>\n",
       "      <td>81.139117</td>\n",
       "      <td>10.0</td>\n",
       "      <td>5217.0</td>\n",
       "      <td>417618.0</td>\n",
       "    </tr>\n",
       "    <tr>\n",
       "      <th>2312</th>\n",
       "      <td>2021.11</td>\n",
       "      <td>31.0</td>\n",
       "      <td>182.575915</td>\n",
       "      <td>10.0</td>\n",
       "      <td>5217.0</td>\n",
       "      <td>350042.0</td>\n",
       "    </tr>\n",
       "    <tr>\n",
       "      <th>5793</th>\n",
       "      <td>2020.01</td>\n",
       "      <td>4.0</td>\n",
       "      <td>423.427497</td>\n",
       "      <td>10.0</td>\n",
       "      <td>5217.0</td>\n",
       "      <td>467894.0</td>\n",
       "    </tr>\n",
       "    <tr>\n",
       "      <th>13</th>\n",
       "      <td>2019.05</td>\n",
       "      <td>8.0</td>\n",
       "      <td>273.264542</td>\n",
       "      <td>4999999.0</td>\n",
       "      <td>5213.0</td>\n",
       "      <td>356012.0</td>\n",
       "    </tr>\n",
       "    <tr>\n",
       "      <th>2416</th>\n",
       "      <td>2019.06</td>\n",
       "      <td>NaN</td>\n",
       "      <td>NaN</td>\n",
       "      <td>NaN</td>\n",
       "      <td>5222.0</td>\n",
       "      <td>268172.0</td>\n",
       "    </tr>\n",
       "  </tbody>\n",
       "</table>\n",
       "</div>"
      ],
      "text/plain": [
       "     TransactionDate  HouseAge  DistanceToStation  NumberOfPubs PostCode  \\\n",
       "ID                                                                         \n",
       "6360         2020.07      33.0          81.139117          10.0   5217.0   \n",
       "2312         2021.11      31.0         182.575915          10.0   5217.0   \n",
       "5793         2020.01       4.0         423.427497          10.0   5217.0   \n",
       "13           2019.05       8.0         273.264542     4999999.0   5213.0   \n",
       "2416         2019.06       NaN                NaN           NaN   5222.0   \n",
       "\n",
       "      HousePrice  \n",
       "ID                \n",
       "6360    417618.0  \n",
       "2312    350042.0  \n",
       "5793    467894.0  \n",
       "13      356012.0  \n",
       "2416    268172.0  "
      ]
     },
     "execution_count": 84,
     "metadata": {},
     "output_type": "execute_result"
    }
   ],
   "source": [
    "train.sort_values('NumberOfPubs').tail()"
   ]
  },
  {
   "cell_type": "markdown",
   "id": "d2ea65fe",
   "metadata": {},
   "source": [
    "OK, we have an outlier to delete here.  Look at `NumberOfPubs` line 13."
   ]
  },
  {
   "cell_type": "code",
   "execution_count": 85,
   "id": "f10c49c9",
   "metadata": {},
   "outputs": [],
   "source": [
    "train.drop(13, inplace=True)"
   ]
  },
  {
   "cell_type": "markdown",
   "id": "e78e4a17",
   "metadata": {},
   "source": [
    "If we see the distribution again we see that we have now improved the dataset a little."
   ]
  },
  {
   "cell_type": "code",
   "execution_count": 86,
   "id": "99e122ec",
   "metadata": {},
   "outputs": [
    {
     "data": {
      "image/png": "[encoded data removed]",
      "text/plain": [
       "<Figure size 1200x600 with 4 Axes>"
      ]
     },
     "metadata": {},
     "output_type": "display_data"
    }
   ],
   "source": [
    "train.hist(figsize=(12, 6), bins=50);"
   ]
  },
  {
   "cell_type": "markdown",
   "id": "3fd845d3",
   "metadata": {},
   "source": [
    "#### EDA.6 Analyzing Categorical Variables"
   ]
  },
  {
   "cell_type": "code",
   "execution_count": 87,
   "id": "ebe3cf07",
   "metadata": {
    "scrolled": false
   },
   "outputs": [
    {
     "data": {
      "image/png": "[encoded data removed]",
      "text/plain": [
       "<Figure size 640x480 with 1 Axes>"
      ]
     },
     "metadata": {},
     "output_type": "display_data"
    }
   ],
   "source": [
    "sns.countplot(x='TransactionDate', data=train)\n",
    "plt.xticks(rotation=90);"
   ]
  },
  {
   "cell_type": "markdown",
   "id": "c0ab08d8",
   "metadata": {},
   "source": [
    "OK, here we see the analysis of the transaction date per year and month in the training data, but it is not sorted correctly per year and date, so we will discuss it later."
   ]
  },
  {
   "cell_type": "code",
   "execution_count": 88,
   "id": "8f4bf522",
   "metadata": {},
   "outputs": [
    {
     "data": {
      "image/png": "[encoded data removed]",
      "text/plain": [
       "<Figure size 640x480 with 1 Axes>"
      ]
     },
     "metadata": {},
     "output_type": "display_data"
    }
   ],
   "source": [
    "sns.countplot(x=train['PostCode'])\n",
    "plt.xticks(rotation=90);"
   ]
  },
  {
   "cell_type": "markdown",
   "id": "13fc3b65",
   "metadata": {},
   "source": [
    "We saw that per `PostCode` is well balanced, we stated before that this is a non numeric data and we must convert it to string to make the algorithm get the correct balance of and find the correct correlations of the data (in this case the postal code).\n",
    "\n",
    "Now let's talk about the analysis of numeric and numeric data, we will find the correlations.  Correlations (in this case linear correlations) will tell us which variable is dependant of another, that is, if we find, i.e. a variable1 and variable2 with 1.0 it is understood that this positive correlation says that when one variable increments the other too, 1.00 is a strong correlation between variable1 and variable2.\n",
    "\n",
    "On the other hand, a negative correlation between variable1 and variable2 like -1.0, says that when one varible is increasing the other keeps decreasing.  One thing to note is that this only detects linear correlations, if the amount of correlation is not linear, we will detect 0.0, but also 0.0 means there is no correlation so it is difficult to know if there is no correlation about linearity or non-linearity using only this analysis.\n",
    "\n",
    "Let's analyze the numerical data at first."
   ]
  },
  {
   "cell_type": "code",
   "execution_count": 89,
   "id": "e5b2caf0",
   "metadata": {},
   "outputs": [
    {
     "name": "stderr",
     "output_type": "stream",
     "text": [
      "C:\\Users\\Denys\\AppData\\Local\\Temp\\ipykernel_10436\\2189804198.py:1: FutureWarning: The default value of numeric_only in DataFrame.corr is deprecated. In a future version, it will default to False. Select only valid columns or specify the value of numeric_only to silence this warning.\n",
      "  train.corr()\n"
     ]
    },
    {
     "data": {
      "text/html": [
       "<div>\n",
       "<style scoped>\n",
       "    .dataframe tbody tr th:only-of-type {\n",
       "        vertical-align: middle;\n",
       "    }\n",
       "\n",
       "    .dataframe tbody tr th {\n",
       "        vertical-align: top;\n",
       "    }\n",
       "\n",
       "    .dataframe thead th {\n",
       "        text-align: right;\n",
       "    }\n",
       "</style>\n",
       "<table border=\"1\" class=\"dataframe\">\n",
       "  <thead>\n",
       "    <tr style=\"text-align: right;\">\n",
       "      <th></th>\n",
       "      <th>HouseAge</th>\n",
       "      <th>DistanceToStation</th>\n",
       "      <th>NumberOfPubs</th>\n",
       "      <th>HousePrice</th>\n",
       "    </tr>\n",
       "  </thead>\n",
       "  <tbody>\n",
       "    <tr>\n",
       "      <th>HouseAge</th>\n",
       "      <td>1.000000</td>\n",
       "      <td>0.026010</td>\n",
       "      <td>0.044890</td>\n",
       "      <td>-0.160459</td>\n",
       "    </tr>\n",
       "    <tr>\n",
       "      <th>DistanceToStation</th>\n",
       "      <td>0.026010</td>\n",
       "      <td>1.000000</td>\n",
       "      <td>-0.588086</td>\n",
       "      <td>-0.546814</td>\n",
       "    </tr>\n",
       "    <tr>\n",
       "      <th>NumberOfPubs</th>\n",
       "      <td>0.044890</td>\n",
       "      <td>-0.588086</td>\n",
       "      <td>1.000000</td>\n",
       "      <td>0.461756</td>\n",
       "    </tr>\n",
       "    <tr>\n",
       "      <th>HousePrice</th>\n",
       "      <td>-0.160459</td>\n",
       "      <td>-0.546814</td>\n",
       "      <td>0.461756</td>\n",
       "      <td>1.000000</td>\n",
       "    </tr>\n",
       "  </tbody>\n",
       "</table>\n",
       "</div>"
      ],
      "text/plain": [
       "                   HouseAge  DistanceToStation  NumberOfPubs  HousePrice\n",
       "HouseAge           1.000000           0.026010      0.044890   -0.160459\n",
       "DistanceToStation  0.026010           1.000000     -0.588086   -0.546814\n",
       "NumberOfPubs       0.044890          -0.588086      1.000000    0.461756\n",
       "HousePrice        -0.160459          -0.546814      0.461756    1.000000"
      ]
     },
     "execution_count": 89,
     "metadata": {},
     "output_type": "execute_result"
    }
   ],
   "source": [
    "train.corr()"
   ]
  },
  {
   "cell_type": "code",
   "execution_count": 90,
   "id": "f4ff4f5d",
   "metadata": {},
   "outputs": [
    {
     "name": "stderr",
     "output_type": "stream",
     "text": [
      "C:\\Users\\Denys\\AppData\\Local\\Temp\\ipykernel_10436\\2602837313.py:1: FutureWarning: The default value of numeric_only in DataFrame.corr is deprecated. In a future version, it will default to False. Select only valid columns or specify the value of numeric_only to silence this warning.\n",
      "  sns.heatmap(train.corr(), fmt='.2f', annot=True, cbar=False)\n"
     ]
    },
    {
     "data": {
      "image/png": "[encoded data removed]",
      "text/plain": [
       "<Figure size 640x480 with 1 Axes>"
      ]
     },
     "metadata": {},
     "output_type": "display_data"
    }
   ],
   "source": [
    "sns.heatmap(train.corr(), fmt='.2f', annot=True, cbar=False)\n",
    "plt.xticks(rotation=90);"
   ]
  },
  {
   "cell_type": "markdown",
   "id": "a18a043a",
   "metadata": {},
   "source": [
    "OK, let's find a better view between HousePrice and Distance to station using a ScatterPlot."
   ]
  },
  {
   "cell_type": "code",
   "execution_count": 91,
   "id": "55ed8e11",
   "metadata": {},
   "outputs": [
    {
     "data": {
      "image/png": "[encoded data removed]",
      "text/plain": [
       "<Figure size 640x480 with 1 Axes>"
      ]
     },
     "metadata": {},
     "output_type": "display_data"
    }
   ],
   "source": [
    "sns.scatterplot(data=train, x='DistanceToStation', y='HousePrice');"
   ]
  },
  {
   "cell_type": "markdown",
   "id": "57fc14d1",
   "metadata": {},
   "source": [
    "What we can conclude about the data seen here?. Well that probably the more near to the Station the more expensive the house is."
   ]
  },
  {
   "cell_type": "code",
   "execution_count": 92,
   "id": "c8ac2493",
   "metadata": {},
   "outputs": [
    {
     "data": {
      "image/png": "[encoded data removed]",
      "text/plain": [
       "<Figure size 640x480 with 1 Axes>"
      ]
     },
     "metadata": {},
     "output_type": "display_data"
    }
   ],
   "source": [
    "sns.scatterplot(data=train, x='NumberOfPubs', y='HousePrice');"
   ]
  },
  {
   "cell_type": "code",
   "execution_count": 93,
   "id": "a93fe815",
   "metadata": {},
   "outputs": [
    {
     "data": {
      "image/png": "[encoded data removed]",
      "text/plain": [
       "<Figure size 640x480 with 1 Axes>"
      ]
     },
     "metadata": {},
     "output_type": "display_data"
    }
   ],
   "source": [
    "sns.scatterplot(data=train, x='HouseAge', y='HousePrice');"
   ]
  },
  {
   "cell_type": "markdown",
   "id": "1b1293fc",
   "metadata": {},
   "source": [
    "#### EDA.7 PostCode\n",
    "\n",
    "Let's use a violinplot to see the relationtip about the target variable and postcode"
   ]
  },
  {
   "cell_type": "code",
   "execution_count": 94,
   "id": "ecd37697",
   "metadata": {},
   "outputs": [
    {
     "data": {
      "image/png": "[encoded data removed]",
      "text/plain": [
       "<Figure size 640x480 with 1 Axes>"
      ]
     },
     "metadata": {},
     "output_type": "display_data"
    }
   ],
   "source": [
    "plt.title('PostCode Analysis vs HousePrice')\n",
    "sns.violinplot(data=train, x='PostCode', y='HousePrice');"
   ]
  },
  {
   "cell_type": "markdown",
   "id": "2cb83d56",
   "metadata": {},
   "source": [
    "Looking about the distribution of the data we could see that 5213 and 5212 and 5217 distributions are nearly equals in distributions and 5614 wutg 5222 practically the same but 5222 have a wide range of values distributed that tells us that probably the post code and house prices is varying."
   ]
  },
  {
   "cell_type": "markdown",
   "id": "d58d79e6",
   "metadata": {},
   "source": [
    "#### EDA.7 Working with Dates"
   ]
  },
  {
   "cell_type": "code",
   "execution_count": 95,
   "id": "8d3c6c13",
   "metadata": {},
   "outputs": [
    {
     "data": {
      "text/html": [
       "<div>\n",
       "<style scoped>\n",
       "    .dataframe tbody tr th:only-of-type {\n",
       "        vertical-align: middle;\n",
       "    }\n",
       "\n",
       "    .dataframe tbody tr th {\n",
       "        vertical-align: top;\n",
       "    }\n",
       "\n",
       "    .dataframe thead th {\n",
       "        text-align: right;\n",
       "    }\n",
       "</style>\n",
       "<table border=\"1\" class=\"dataframe\">\n",
       "  <thead>\n",
       "    <tr style=\"text-align: right;\">\n",
       "      <th></th>\n",
       "      <th>TransactionDate</th>\n",
       "      <th>HouseAge</th>\n",
       "      <th>DistanceToStation</th>\n",
       "      <th>NumberOfPubs</th>\n",
       "      <th>PostCode</th>\n",
       "      <th>HousePrice</th>\n",
       "    </tr>\n",
       "    <tr>\n",
       "      <th>ID</th>\n",
       "      <th></th>\n",
       "      <th></th>\n",
       "      <th></th>\n",
       "      <th></th>\n",
       "      <th></th>\n",
       "      <th></th>\n",
       "    </tr>\n",
       "  </thead>\n",
       "  <tbody>\n",
       "  </tbody>\n",
       "</table>\n",
       "</div>"
      ],
      "text/plain": [
       "Empty DataFrame\n",
       "Columns: [TransactionDate, HouseAge, DistanceToStation, NumberOfPubs, PostCode, HousePrice]\n",
       "Index: []"
      ]
     },
     "execution_count": 95,
     "metadata": {},
     "output_type": "execute_result"
    }
   ],
   "source": [
    "train[train['TransactionDate'].isnull()] # check missing values"
   ]
  },
  {
   "cell_type": "code",
   "execution_count": 96,
   "id": "160a5d64",
   "metadata": {},
   "outputs": [
    {
     "data": {
      "text/html": [
       "<div>\n",
       "<style scoped>\n",
       "    .dataframe tbody tr th:only-of-type {\n",
       "        vertical-align: middle;\n",
       "    }\n",
       "\n",
       "    .dataframe tbody tr th {\n",
       "        vertical-align: top;\n",
       "    }\n",
       "\n",
       "    .dataframe thead th {\n",
       "        text-align: right;\n",
       "    }\n",
       "</style>\n",
       "<table border=\"1\" class=\"dataframe\">\n",
       "  <thead>\n",
       "    <tr style=\"text-align: right;\">\n",
       "      <th></th>\n",
       "      <th>TransactionDate</th>\n",
       "      <th>HouseAge</th>\n",
       "      <th>DistanceToStation</th>\n",
       "      <th>NumberOfPubs</th>\n",
       "      <th>PostCode</th>\n",
       "      <th>HousePrice</th>\n",
       "    </tr>\n",
       "    <tr>\n",
       "      <th>ID</th>\n",
       "      <th></th>\n",
       "      <th></th>\n",
       "      <th></th>\n",
       "      <th></th>\n",
       "      <th></th>\n",
       "      <th></th>\n",
       "    </tr>\n",
       "  </thead>\n",
       "  <tbody>\n",
       "    <tr>\n",
       "      <th>48</th>\n",
       "      <td>nan</td>\n",
       "      <td>13.0</td>\n",
       "      <td>1214.171333</td>\n",
       "      <td>1.0</td>\n",
       "      <td>5614.0</td>\n",
       "      <td>NaN</td>\n",
       "    </tr>\n",
       "    <tr>\n",
       "      <th>7673</th>\n",
       "      <td>nan</td>\n",
       "      <td>NaN</td>\n",
       "      <td>3830.892098</td>\n",
       "      <td>0.0</td>\n",
       "      <td>5217.0</td>\n",
       "      <td>NaN</td>\n",
       "    </tr>\n",
       "  </tbody>\n",
       "</table>\n",
       "</div>"
      ],
      "text/plain": [
       "     TransactionDate  HouseAge  DistanceToStation  NumberOfPubs PostCode  \\\n",
       "ID                                                                         \n",
       "48               nan      13.0        1214.171333           1.0   5614.0   \n",
       "7673             nan       NaN        3830.892098           0.0   5217.0   \n",
       "\n",
       "      HousePrice  \n",
       "ID                \n",
       "48           NaN  \n",
       "7673         NaN  "
      ]
     },
     "execution_count": 96,
     "metadata": {},
     "output_type": "execute_result"
    }
   ],
   "source": [
    "train[train['TransactionDate']=='nan'] # check for written nan values"
   ]
  },
  {
   "cell_type": "markdown",
   "id": "ff454ecc",
   "metadata": {},
   "source": [
    "We saw something weird, that we have a house prices in Nan so we will exclude them from the dataset this time."
   ]
  },
  {
   "cell_type": "code",
   "execution_count": 97,
   "id": "b3b837ff",
   "metadata": {},
   "outputs": [
    {
     "data": {
      "text/html": [
       "<div>\n",
       "<style scoped>\n",
       "    .dataframe tbody tr th:only-of-type {\n",
       "        vertical-align: middle;\n",
       "    }\n",
       "\n",
       "    .dataframe tbody tr th {\n",
       "        vertical-align: top;\n",
       "    }\n",
       "\n",
       "    .dataframe thead th {\n",
       "        text-align: right;\n",
       "    }\n",
       "</style>\n",
       "<table border=\"1\" class=\"dataframe\">\n",
       "  <thead>\n",
       "    <tr style=\"text-align: right;\">\n",
       "      <th></th>\n",
       "      <th>TransactionDate</th>\n",
       "      <th>HouseAge</th>\n",
       "      <th>DistanceToStation</th>\n",
       "      <th>NumberOfPubs</th>\n",
       "      <th>PostCode</th>\n",
       "      <th>HousePrice</th>\n",
       "    </tr>\n",
       "    <tr>\n",
       "      <th>ID</th>\n",
       "      <th></th>\n",
       "      <th></th>\n",
       "      <th></th>\n",
       "      <th></th>\n",
       "      <th></th>\n",
       "      <th></th>\n",
       "    </tr>\n",
       "  </thead>\n",
       "  <tbody>\n",
       "  </tbody>\n",
       "</table>\n",
       "</div>"
      ],
      "text/plain": [
       "Empty DataFrame\n",
       "Columns: [TransactionDate, HouseAge, DistanceToStation, NumberOfPubs, PostCode, HousePrice]\n",
       "Index: []"
      ]
     },
     "execution_count": 97,
     "metadata": {},
     "output_type": "execute_result"
    }
   ],
   "source": [
    "train = train[~train.HousePrice.isnull()] # drop missing values from transaction date \n",
    "train[train.HousePrice.isna()]"
   ]
  },
  {
   "cell_type": "markdown",
   "id": "39bc202a",
   "metadata": {},
   "source": [
    "Let's work with teh date and get the year and month sold of the house."
   ]
  },
  {
   "cell_type": "code",
   "execution_count": 98,
   "id": "898c8f69",
   "metadata": {},
   "outputs": [],
   "source": [
    "train['year'] = train.TransactionDate.apply(lambda x: x[:4]).astype(int)\n",
    "train['month'] = train.TransactionDate.apply(lambda x: x[5:]).astype(int)\n",
    "train['month'] = train['month'].apply(lambda x: calendar.month_name[x])"
   ]
  },
  {
   "cell_type": "code",
   "execution_count": 99,
   "id": "aa1b41f0",
   "metadata": {},
   "outputs": [
    {
     "data": {
      "image/png": "[encoded data removed]",
      "text/plain": [
       "<Figure size 1200x800 with 1 Axes>"
      ]
     },
     "metadata": {},
     "output_type": "display_data"
    }
   ],
   "source": [
    "fig, ax = plt.subplots(figsize=(12,8))\n",
    "sns.boxplot(data=train, x='year', y='HousePrice', ax=ax);"
   ]
  },
  {
   "cell_type": "markdown",
   "id": "6f550bd8",
   "metadata": {},
   "source": [
    "If we look closely, the prices is increasing every year (and also the Q3 or quartile 3), even the mean value is increasing year by year."
   ]
  },
  {
   "cell_type": "code",
   "execution_count": 100,
   "id": "27dd9bba",
   "metadata": {},
   "outputs": [
    {
     "data": {
      "image/png": "[encoded data removed]",
      "text/plain": [
       "<Figure size 1200x800 with 1 Axes>"
      ]
     },
     "metadata": {},
     "output_type": "display_data"
    }
   ],
   "source": [
    "fig, ax = plt.subplots(figsize=(12,8))\n",
    "order=['January', 'February', 'March', 'April', 'May', 'June', 'July', 'August', 'September', 'October', 'November', 'December']\n",
    "sns.boxplot(data=train, x='month', y='HousePrice', ax=ax, order=order)\n",
    "plt.xticks(rotation=45);"
   ]
  },
  {
   "cell_type": "markdown",
   "id": "69611502",
   "metadata": {},
   "source": [
    "OK, as we see there is a relationship, but not as evident as the others seen that is really easy to view."
   ]
  },
  {
   "cell_type": "markdown",
   "id": "be122af2",
   "metadata": {},
   "source": [
    "## Building Preprocessing Functions with Scikit-Learn\n",
    "\n",
    "We will build a preprocessing function of scikit-learn called SimpleImputer, OneHotEncoder and StandardScaler.\n",
    "\n",
    "We will build a class that will apply preprocessing and we can use in a pipeline\n",
    "\n",
    "### Data_Preprocess.1"
   ]
  },
  {
   "cell_type": "code",
   "execution_count": 101,
   "id": "b24c7adc",
   "metadata": {},
   "outputs": [],
   "source": [
    "class Preprocessor(BaseEstimator, TransformerMixin):\n",
    "\n",
    "    def fit(self, X, y=None): # train on custom preprocessor\n",
    "        self.imputer = SimpleImputer() # apply imputer\n",
    "        self.imputer.fit(X[['HouseAge', 'DistanceToStation', 'NumberOfPubs']])\n",
    "        \n",
    "        self.scaler = StandardScaler() # apply scaler\n",
    "        self.scaler.fit(X[['HouseAge', 'DistanceToStation', 'NumberOfPubs']])        \n",
    " \n",
    "        self.ohe = OneHotEncoder(handle_unknown='ignore') # apply one hot encoding\n",
    "        self.ohe.fit(X[['PostCode', 'month']])\n",
    "        \n",
    "        return self\n",
    "    \n",
    "    def transform(self, X): # apply and return a transform\n",
    "        transformed_df = X.copy()     \n",
    "\n",
    "        # apply to year.month\n",
    "        transformed_df['year'] = transformed_df.TransactionDate.apply(lambda x: x[:4]).astype(int)\n",
    "        transformed_df['month'] = transformed_df.TransactionDate.apply(lambda x: x[5:]).astype(int)\n",
    "        transformed_df['month'] = transformed_df.month.apply(lambda x: calendar.month_name[x])\n",
    "        \n",
    "        # imput and scale\n",
    "        imputed_columns = self.imputer.transform(transformed_df[['HouseAge', 'DistanceToStation', 'NumberOfPubs']])\n",
    "        transformed_df[['HouseAge','DistanceToStation', 'NumberOfPubs']] = self.scaler.transform(imputed_columns)\n",
    "\n",
    "        # make one hot encoders\n",
    "        ohe_columns = self.ohe.transform(transformed_df[['PostCode', 'month']])\n",
    "        transformed_df = transformed_df.drop(['year', 'TransactionDate', 'PostCode', 'month'], axis=1)\n",
    "        transformed_df[self.ohe.get_feature_names_out()] = ohe_columns.toarray().astype(int)\n",
    "        \n",
    "        return transformed_df"
   ]
  },
  {
   "cell_type": "code",
   "execution_count": 102,
   "id": "72f8775a",
   "metadata": {
    "scrolled": false
   },
   "outputs": [
    {
     "name": "stderr",
     "output_type": "stream",
     "text": [
      "C:\\Users\\Denys\\anaconda3\\envs\\churn\\lib\\site-packages\\sklearn\\base.py:439: UserWarning: X does not have valid feature names, but StandardScaler was fitted with feature names\n",
      "  warnings.warn(\n"
     ]
    }
   ],
   "source": [
    "preprocess = Preprocessor()\n",
    "preprocess.fit(train)\n",
    "preprocess_df = preprocess.transform(train)"
   ]
  },
  {
   "cell_type": "markdown",
   "id": "3ccc1cb3",
   "metadata": {},
   "source": [
    "### Data_Preprocess.2 - Visualization"
   ]
  },
  {
   "cell_type": "code",
   "execution_count": 103,
   "id": "192d6726",
   "metadata": {},
   "outputs": [
    {
     "data": {
      "text/html": [
       "<div>\n",
       "<style scoped>\n",
       "    .dataframe tbody tr th:only-of-type {\n",
       "        vertical-align: middle;\n",
       "    }\n",
       "\n",
       "    .dataframe tbody tr th {\n",
       "        vertical-align: top;\n",
       "    }\n",
       "\n",
       "    .dataframe thead th {\n",
       "        text-align: right;\n",
       "    }\n",
       "</style>\n",
       "<table border=\"1\" class=\"dataframe\">\n",
       "  <thead>\n",
       "    <tr style=\"text-align: right;\">\n",
       "      <th></th>\n",
       "      <th>HouseAge</th>\n",
       "      <th>DistanceToStation</th>\n",
       "      <th>NumberOfPubs</th>\n",
       "      <th>HousePrice</th>\n",
       "      <th>PostCode_5212.0</th>\n",
       "      <th>PostCode_5213.0</th>\n",
       "      <th>PostCode_5217.0</th>\n",
       "      <th>PostCode_5222.0</th>\n",
       "      <th>PostCode_5614.0</th>\n",
       "      <th>month_April</th>\n",
       "      <th>month_August</th>\n",
       "      <th>month_December</th>\n",
       "      <th>month_February</th>\n",
       "      <th>month_January</th>\n",
       "      <th>month_July</th>\n",
       "      <th>month_June</th>\n",
       "      <th>month_March</th>\n",
       "      <th>month_May</th>\n",
       "      <th>month_November</th>\n",
       "      <th>month_September</th>\n",
       "    </tr>\n",
       "    <tr>\n",
       "      <th>ID</th>\n",
       "      <th></th>\n",
       "      <th></th>\n",
       "      <th></th>\n",
       "      <th></th>\n",
       "      <th></th>\n",
       "      <th></th>\n",
       "      <th></th>\n",
       "      <th></th>\n",
       "      <th></th>\n",
       "      <th></th>\n",
       "      <th></th>\n",
       "      <th></th>\n",
       "      <th></th>\n",
       "      <th></th>\n",
       "      <th></th>\n",
       "      <th></th>\n",
       "      <th></th>\n",
       "      <th></th>\n",
       "      <th></th>\n",
       "      <th></th>\n",
       "    </tr>\n",
       "  </thead>\n",
       "  <tbody>\n",
       "    <tr>\n",
       "      <th>794</th>\n",
       "      <td>2.059663</td>\n",
       "      <td>-0.641522</td>\n",
       "      <td>1.332432</td>\n",
       "      <td>471805.0</td>\n",
       "      <td>0</td>\n",
       "      <td>1</td>\n",
       "      <td>0</td>\n",
       "      <td>0</td>\n",
       "      <td>0</td>\n",
       "      <td>0</td>\n",
       "      <td>0</td>\n",
       "      <td>0</td>\n",
       "      <td>0</td>\n",
       "      <td>0</td>\n",
       "      <td>0</td>\n",
       "      <td>0</td>\n",
       "      <td>1</td>\n",
       "      <td>0</td>\n",
       "      <td>0</td>\n",
       "      <td>0</td>\n",
       "    </tr>\n",
       "    <tr>\n",
       "      <th>2833</th>\n",
       "      <td>-0.476502</td>\n",
       "      <td>0.380768</td>\n",
       "      <td>-1.038259</td>\n",
       "      <td>296951.0</td>\n",
       "      <td>0</td>\n",
       "      <td>0</td>\n",
       "      <td>0</td>\n",
       "      <td>1</td>\n",
       "      <td>0</td>\n",
       "      <td>0</td>\n",
       "      <td>0</td>\n",
       "      <td>0</td>\n",
       "      <td>1</td>\n",
       "      <td>0</td>\n",
       "      <td>0</td>\n",
       "      <td>0</td>\n",
       "      <td>0</td>\n",
       "      <td>0</td>\n",
       "      <td>0</td>\n",
       "      <td>0</td>\n",
       "    </tr>\n",
       "    <tr>\n",
       "      <th>3026</th>\n",
       "      <td>-0.039233</td>\n",
       "      <td>0.585483</td>\n",
       "      <td>-0.360919</td>\n",
       "      <td>218155.0</td>\n",
       "      <td>0</td>\n",
       "      <td>0</td>\n",
       "      <td>0</td>\n",
       "      <td>1</td>\n",
       "      <td>0</td>\n",
       "      <td>0</td>\n",
       "      <td>0</td>\n",
       "      <td>0</td>\n",
       "      <td>0</td>\n",
       "      <td>1</td>\n",
       "      <td>0</td>\n",
       "      <td>0</td>\n",
       "      <td>0</td>\n",
       "      <td>0</td>\n",
       "      <td>0</td>\n",
       "      <td>0</td>\n",
       "    </tr>\n",
       "    <tr>\n",
       "      <th>3128</th>\n",
       "      <td>1.272577</td>\n",
       "      <td>0.120977</td>\n",
       "      <td>-1.376929</td>\n",
       "      <td>99830.0</td>\n",
       "      <td>0</td>\n",
       "      <td>0</td>\n",
       "      <td>1</td>\n",
       "      <td>0</td>\n",
       "      <td>0</td>\n",
       "      <td>0</td>\n",
       "      <td>0</td>\n",
       "      <td>0</td>\n",
       "      <td>0</td>\n",
       "      <td>1</td>\n",
       "      <td>0</td>\n",
       "      <td>0</td>\n",
       "      <td>0</td>\n",
       "      <td>0</td>\n",
       "      <td>0</td>\n",
       "      <td>0</td>\n",
       "    </tr>\n",
       "    <tr>\n",
       "      <th>5117</th>\n",
       "      <td>0.048221</td>\n",
       "      <td>0.208609</td>\n",
       "      <td>-1.038259</td>\n",
       "      <td>310561.0</td>\n",
       "      <td>0</td>\n",
       "      <td>0</td>\n",
       "      <td>0</td>\n",
       "      <td>1</td>\n",
       "      <td>0</td>\n",
       "      <td>0</td>\n",
       "      <td>0</td>\n",
       "      <td>0</td>\n",
       "      <td>0</td>\n",
       "      <td>1</td>\n",
       "      <td>0</td>\n",
       "      <td>0</td>\n",
       "      <td>0</td>\n",
       "      <td>0</td>\n",
       "      <td>0</td>\n",
       "      <td>0</td>\n",
       "    </tr>\n",
       "  </tbody>\n",
       "</table>\n",
       "</div>"
      ],
      "text/plain": [
       "      HouseAge  DistanceToStation  NumberOfPubs  HousePrice  PostCode_5212.0  \\\n",
       "ID                                                                             \n",
       "794   2.059663          -0.641522      1.332432    471805.0                0   \n",
       "2833 -0.476502           0.380768     -1.038259    296951.0                0   \n",
       "3026 -0.039233           0.585483     -0.360919    218155.0                0   \n",
       "3128  1.272577           0.120977     -1.376929     99830.0                0   \n",
       "5117  0.048221           0.208609     -1.038259    310561.0                0   \n",
       "\n",
       "      PostCode_5213.0  PostCode_5217.0  PostCode_5222.0  PostCode_5614.0  \\\n",
       "ID                                                                         \n",
       "794                 1                0                0                0   \n",
       "2833                0                0                1                0   \n",
       "3026                0                0                1                0   \n",
       "3128                0                1                0                0   \n",
       "5117                0                0                1                0   \n",
       "\n",
       "      month_April  month_August  month_December  month_February  \\\n",
       "ID                                                                \n",
       "794             0             0               0               0   \n",
       "2833            0             0               0               1   \n",
       "3026            0             0               0               0   \n",
       "3128            0             0               0               0   \n",
       "5117            0             0               0               0   \n",
       "\n",
       "      month_January  month_July  month_June  month_March  month_May  \\\n",
       "ID                                                                    \n",
       "794               0           0           0            1          0   \n",
       "2833              0           0           0            0          0   \n",
       "3026              1           0           0            0          0   \n",
       "3128              1           0           0            0          0   \n",
       "5117              1           0           0            0          0   \n",
       "\n",
       "      month_November  month_September  \n",
       "ID                                     \n",
       "794                0                0  \n",
       "2833               0                0  \n",
       "3026               0                0  \n",
       "3128               0                0  \n",
       "5117               0                0  "
      ]
     },
     "execution_count": 103,
     "metadata": {},
     "output_type": "execute_result"
    }
   ],
   "source": [
    "preprocess_df.head()"
   ]
  },
  {
   "cell_type": "markdown",
   "id": "430e13da",
   "metadata": {},
   "source": [
    "As we say, in the end only we have numerical data and is preprocessed at the center too, let-s see if the correct format is ready to the machine learning model."
   ]
  },
  {
   "cell_type": "code",
   "execution_count": 104,
   "id": "a225cce5",
   "metadata": {},
   "outputs": [
    {
     "data": {
      "text/plain": [
       "HouseAge             float64\n",
       "DistanceToStation    float64\n",
       "NumberOfPubs         float64\n",
       "HousePrice           float64\n",
       "PostCode_5212.0        int32\n",
       "PostCode_5213.0        int32\n",
       "PostCode_5217.0        int32\n",
       "PostCode_5222.0        int32\n",
       "PostCode_5614.0        int32\n",
       "month_April            int32\n",
       "month_August           int32\n",
       "month_December         int32\n",
       "month_February         int32\n",
       "month_January          int32\n",
       "month_July             int32\n",
       "month_June             int32\n",
       "month_March            int32\n",
       "month_May              int32\n",
       "month_November         int32\n",
       "month_September        int32\n",
       "dtype: object"
      ]
     },
     "execution_count": 104,
     "metadata": {},
     "output_type": "execute_result"
    }
   ],
   "source": [
    "preprocess_df.dtypes"
   ]
  },
  {
   "cell_type": "code",
   "execution_count": 105,
   "id": "9a24787e",
   "metadata": {},
   "outputs": [
    {
     "name": "stdout",
     "output_type": "stream",
     "text": [
      "<class 'pandas.core.frame.DataFrame'>\n",
      "Int64Index: 7475 entries, 794 to 7270\n",
      "Data columns (total 20 columns):\n",
      " #   Column             Non-Null Count  Dtype  \n",
      "---  ------             --------------  -----  \n",
      " 0   HouseAge           7475 non-null   float64\n",
      " 1   DistanceToStation  7475 non-null   float64\n",
      " 2   NumberOfPubs       7475 non-null   float64\n",
      " 3   HousePrice         7475 non-null   float64\n",
      " 4   PostCode_5212.0    7475 non-null   int32  \n",
      " 5   PostCode_5213.0    7475 non-null   int32  \n",
      " 6   PostCode_5217.0    7475 non-null   int32  \n",
      " 7   PostCode_5222.0    7475 non-null   int32  \n",
      " 8   PostCode_5614.0    7475 non-null   int32  \n",
      " 9   month_April        7475 non-null   int32  \n",
      " 10  month_August       7475 non-null   int32  \n",
      " 11  month_December     7475 non-null   int32  \n",
      " 12  month_February     7475 non-null   int32  \n",
      " 13  month_January      7475 non-null   int32  \n",
      " 14  month_July         7475 non-null   int32  \n",
      " 15  month_June         7475 non-null   int32  \n",
      " 16  month_March        7475 non-null   int32  \n",
      " 17  month_May          7475 non-null   int32  \n",
      " 18  month_November     7475 non-null   int32  \n",
      " 19  month_September    7475 non-null   int32  \n",
      "dtypes: float64(4), int32(16)\n",
      "memory usage: 759.2 KB\n"
     ]
    }
   ],
   "source": [
    "preprocess_df.info()"
   ]
  },
  {
   "cell_type": "markdown",
   "id": "e136ddf8",
   "metadata": {},
   "source": [
    "### Data_Preprocess.2 - Visualization"
   ]
  },
  {
   "cell_type": "code",
   "execution_count": 132,
   "id": "e1f99537",
   "metadata": {},
   "outputs": [
    {
     "data": {
      "text/html": [
       "<div>\n",
       "<style scoped>\n",
       "    .dataframe tbody tr th:only-of-type {\n",
       "        vertical-align: middle;\n",
       "    }\n",
       "\n",
       "    .dataframe tbody tr th {\n",
       "        vertical-align: top;\n",
       "    }\n",
       "\n",
       "    .dataframe thead th {\n",
       "        text-align: right;\n",
       "    }\n",
       "</style>\n",
       "<table border=\"1\" class=\"dataframe\">\n",
       "  <thead>\n",
       "    <tr style=\"text-align: right;\">\n",
       "      <th></th>\n",
       "      <th>HouseAge</th>\n",
       "      <th>DistanceToStation</th>\n",
       "      <th>NumberOfPubs</th>\n",
       "      <th>HousePrice</th>\n",
       "      <th>PostCode_5212.0</th>\n",
       "      <th>PostCode_5213.0</th>\n",
       "      <th>PostCode_5217.0</th>\n",
       "      <th>PostCode_5222.0</th>\n",
       "      <th>PostCode_5614.0</th>\n",
       "      <th>month_April</th>\n",
       "      <th>month_August</th>\n",
       "      <th>month_December</th>\n",
       "      <th>month_February</th>\n",
       "      <th>month_January</th>\n",
       "      <th>month_July</th>\n",
       "      <th>month_June</th>\n",
       "      <th>month_March</th>\n",
       "      <th>month_May</th>\n",
       "      <th>month_November</th>\n",
       "      <th>month_September</th>\n",
       "    </tr>\n",
       "    <tr>\n",
       "      <th>ID</th>\n",
       "      <th></th>\n",
       "      <th></th>\n",
       "      <th></th>\n",
       "      <th></th>\n",
       "      <th></th>\n",
       "      <th></th>\n",
       "      <th></th>\n",
       "      <th></th>\n",
       "      <th></th>\n",
       "      <th></th>\n",
       "      <th></th>\n",
       "      <th></th>\n",
       "      <th></th>\n",
       "      <th></th>\n",
       "      <th></th>\n",
       "      <th></th>\n",
       "      <th></th>\n",
       "      <th></th>\n",
       "      <th></th>\n",
       "      <th></th>\n",
       "    </tr>\n",
       "  </thead>\n",
       "  <tbody>\n",
       "    <tr>\n",
       "      <th>794</th>\n",
       "      <td>2.059663</td>\n",
       "      <td>-0.641522</td>\n",
       "      <td>1.332432</td>\n",
       "      <td>471805.0</td>\n",
       "      <td>0</td>\n",
       "      <td>1</td>\n",
       "      <td>0</td>\n",
       "      <td>0</td>\n",
       "      <td>0</td>\n",
       "      <td>0</td>\n",
       "      <td>0</td>\n",
       "      <td>0</td>\n",
       "      <td>0</td>\n",
       "      <td>0</td>\n",
       "      <td>0</td>\n",
       "      <td>0</td>\n",
       "      <td>1</td>\n",
       "      <td>0</td>\n",
       "      <td>0</td>\n",
       "      <td>0</td>\n",
       "    </tr>\n",
       "    <tr>\n",
       "      <th>2833</th>\n",
       "      <td>-0.476502</td>\n",
       "      <td>0.380768</td>\n",
       "      <td>-1.038259</td>\n",
       "      <td>296951.0</td>\n",
       "      <td>0</td>\n",
       "      <td>0</td>\n",
       "      <td>0</td>\n",
       "      <td>1</td>\n",
       "      <td>0</td>\n",
       "      <td>0</td>\n",
       "      <td>0</td>\n",
       "      <td>0</td>\n",
       "      <td>1</td>\n",
       "      <td>0</td>\n",
       "      <td>0</td>\n",
       "      <td>0</td>\n",
       "      <td>0</td>\n",
       "      <td>0</td>\n",
       "      <td>0</td>\n",
       "      <td>0</td>\n",
       "    </tr>\n",
       "    <tr>\n",
       "      <th>3026</th>\n",
       "      <td>-0.039233</td>\n",
       "      <td>0.585483</td>\n",
       "      <td>-0.360919</td>\n",
       "      <td>218155.0</td>\n",
       "      <td>0</td>\n",
       "      <td>0</td>\n",
       "      <td>0</td>\n",
       "      <td>1</td>\n",
       "      <td>0</td>\n",
       "      <td>0</td>\n",
       "      <td>0</td>\n",
       "      <td>0</td>\n",
       "      <td>0</td>\n",
       "      <td>1</td>\n",
       "      <td>0</td>\n",
       "      <td>0</td>\n",
       "      <td>0</td>\n",
       "      <td>0</td>\n",
       "      <td>0</td>\n",
       "      <td>0</td>\n",
       "    </tr>\n",
       "    <tr>\n",
       "      <th>3128</th>\n",
       "      <td>1.272577</td>\n",
       "      <td>0.120977</td>\n",
       "      <td>-1.376929</td>\n",
       "      <td>99830.0</td>\n",
       "      <td>0</td>\n",
       "      <td>0</td>\n",
       "      <td>1</td>\n",
       "      <td>0</td>\n",
       "      <td>0</td>\n",
       "      <td>0</td>\n",
       "      <td>0</td>\n",
       "      <td>0</td>\n",
       "      <td>0</td>\n",
       "      <td>1</td>\n",
       "      <td>0</td>\n",
       "      <td>0</td>\n",
       "      <td>0</td>\n",
       "      <td>0</td>\n",
       "      <td>0</td>\n",
       "      <td>0</td>\n",
       "    </tr>\n",
       "    <tr>\n",
       "      <th>5117</th>\n",
       "      <td>0.048221</td>\n",
       "      <td>0.208609</td>\n",
       "      <td>-1.038259</td>\n",
       "      <td>310561.0</td>\n",
       "      <td>0</td>\n",
       "      <td>0</td>\n",
       "      <td>0</td>\n",
       "      <td>1</td>\n",
       "      <td>0</td>\n",
       "      <td>0</td>\n",
       "      <td>0</td>\n",
       "      <td>0</td>\n",
       "      <td>0</td>\n",
       "      <td>1</td>\n",
       "      <td>0</td>\n",
       "      <td>0</td>\n",
       "      <td>0</td>\n",
       "      <td>0</td>\n",
       "      <td>0</td>\n",
       "      <td>0</td>\n",
       "    </tr>\n",
       "    <tr>\n",
       "      <th>...</th>\n",
       "      <td>...</td>\n",
       "      <td>...</td>\n",
       "      <td>...</td>\n",
       "      <td>...</td>\n",
       "      <td>...</td>\n",
       "      <td>...</td>\n",
       "      <td>...</td>\n",
       "      <td>...</td>\n",
       "      <td>...</td>\n",
       "      <td>...</td>\n",
       "      <td>...</td>\n",
       "      <td>...</td>\n",
       "      <td>...</td>\n",
       "      <td>...</td>\n",
       "      <td>...</td>\n",
       "      <td>...</td>\n",
       "      <td>...</td>\n",
       "      <td>...</td>\n",
       "      <td>...</td>\n",
       "      <td>...</td>\n",
       "    </tr>\n",
       "    <tr>\n",
       "      <th>5734</th>\n",
       "      <td>-0.214141</td>\n",
       "      <td>-0.780109</td>\n",
       "      <td>0.316421</td>\n",
       "      <td>337155.0</td>\n",
       "      <td>0</td>\n",
       "      <td>1</td>\n",
       "      <td>0</td>\n",
       "      <td>0</td>\n",
       "      <td>0</td>\n",
       "      <td>0</td>\n",
       "      <td>0</td>\n",
       "      <td>0</td>\n",
       "      <td>1</td>\n",
       "      <td>0</td>\n",
       "      <td>0</td>\n",
       "      <td>0</td>\n",
       "      <td>0</td>\n",
       "      <td>0</td>\n",
       "      <td>0</td>\n",
       "      <td>0</td>\n",
       "    </tr>\n",
       "    <tr>\n",
       "      <th>5191</th>\n",
       "      <td>1.185123</td>\n",
       "      <td>-0.618938</td>\n",
       "      <td>1.671102</td>\n",
       "      <td>347520.0</td>\n",
       "      <td>0</td>\n",
       "      <td>1</td>\n",
       "      <td>0</td>\n",
       "      <td>0</td>\n",
       "      <td>0</td>\n",
       "      <td>0</td>\n",
       "      <td>0</td>\n",
       "      <td>0</td>\n",
       "      <td>0</td>\n",
       "      <td>0</td>\n",
       "      <td>0</td>\n",
       "      <td>1</td>\n",
       "      <td>0</td>\n",
       "      <td>0</td>\n",
       "      <td>0</td>\n",
       "      <td>0</td>\n",
       "    </tr>\n",
       "    <tr>\n",
       "      <th>5390</th>\n",
       "      <td>-1.525950</td>\n",
       "      <td>-0.714266</td>\n",
       "      <td>0.655091</td>\n",
       "      <td>523231.0</td>\n",
       "      <td>0</td>\n",
       "      <td>0</td>\n",
       "      <td>1</td>\n",
       "      <td>0</td>\n",
       "      <td>0</td>\n",
       "      <td>0</td>\n",
       "      <td>0</td>\n",
       "      <td>0</td>\n",
       "      <td>0</td>\n",
       "      <td>0</td>\n",
       "      <td>0</td>\n",
       "      <td>0</td>\n",
       "      <td>1</td>\n",
       "      <td>0</td>\n",
       "      <td>0</td>\n",
       "      <td>0</td>\n",
       "    </tr>\n",
       "    <tr>\n",
       "      <th>860</th>\n",
       "      <td>-1.263588</td>\n",
       "      <td>-0.776761</td>\n",
       "      <td>0.993762</td>\n",
       "      <td>462324.0</td>\n",
       "      <td>0</td>\n",
       "      <td>1</td>\n",
       "      <td>0</td>\n",
       "      <td>0</td>\n",
       "      <td>0</td>\n",
       "      <td>1</td>\n",
       "      <td>0</td>\n",
       "      <td>0</td>\n",
       "      <td>0</td>\n",
       "      <td>0</td>\n",
       "      <td>0</td>\n",
       "      <td>0</td>\n",
       "      <td>0</td>\n",
       "      <td>0</td>\n",
       "      <td>0</td>\n",
       "      <td>0</td>\n",
       "    </tr>\n",
       "    <tr>\n",
       "      <th>7270</th>\n",
       "      <td>-0.126687</td>\n",
       "      <td>-0.781544</td>\n",
       "      <td>0.993762</td>\n",
       "      <td>351911.0</td>\n",
       "      <td>1</td>\n",
       "      <td>0</td>\n",
       "      <td>0</td>\n",
       "      <td>0</td>\n",
       "      <td>0</td>\n",
       "      <td>1</td>\n",
       "      <td>0</td>\n",
       "      <td>0</td>\n",
       "      <td>0</td>\n",
       "      <td>0</td>\n",
       "      <td>0</td>\n",
       "      <td>0</td>\n",
       "      <td>0</td>\n",
       "      <td>0</td>\n",
       "      <td>0</td>\n",
       "      <td>0</td>\n",
       "    </tr>\n",
       "  </tbody>\n",
       "</table>\n",
       "<p>7475 rows × 20 columns</p>\n",
       "</div>"
      ],
      "text/plain": [
       "      HouseAge  DistanceToStation  NumberOfPubs  HousePrice  PostCode_5212.0  \\\n",
       "ID                                                                             \n",
       "794   2.059663          -0.641522      1.332432    471805.0                0   \n",
       "2833 -0.476502           0.380768     -1.038259    296951.0                0   \n",
       "3026 -0.039233           0.585483     -0.360919    218155.0                0   \n",
       "3128  1.272577           0.120977     -1.376929     99830.0                0   \n",
       "5117  0.048221           0.208609     -1.038259    310561.0                0   \n",
       "...        ...                ...           ...         ...              ...   \n",
       "5734 -0.214141          -0.780109      0.316421    337155.0                0   \n",
       "5191  1.185123          -0.618938      1.671102    347520.0                0   \n",
       "5390 -1.525950          -0.714266      0.655091    523231.0                0   \n",
       "860  -1.263588          -0.776761      0.993762    462324.0                0   \n",
       "7270 -0.126687          -0.781544      0.993762    351911.0                1   \n",
       "\n",
       "      PostCode_5213.0  PostCode_5217.0  PostCode_5222.0  PostCode_5614.0  \\\n",
       "ID                                                                         \n",
       "794                 1                0                0                0   \n",
       "2833                0                0                1                0   \n",
       "3026                0                0                1                0   \n",
       "3128                0                1                0                0   \n",
       "5117                0                0                1                0   \n",
       "...               ...              ...              ...              ...   \n",
       "5734                1                0                0                0   \n",
       "5191                1                0                0                0   \n",
       "5390                0                1                0                0   \n",
       "860                 1                0                0                0   \n",
       "7270                0                0                0                0   \n",
       "\n",
       "      month_April  month_August  month_December  month_February  \\\n",
       "ID                                                                \n",
       "794             0             0               0               0   \n",
       "2833            0             0               0               1   \n",
       "3026            0             0               0               0   \n",
       "3128            0             0               0               0   \n",
       "5117            0             0               0               0   \n",
       "...           ...           ...             ...             ...   \n",
       "5734            0             0               0               1   \n",
       "5191            0             0               0               0   \n",
       "5390            0             0               0               0   \n",
       "860             1             0               0               0   \n",
       "7270            1             0               0               0   \n",
       "\n",
       "      month_January  month_July  month_June  month_March  month_May  \\\n",
       "ID                                                                    \n",
       "794               0           0           0            1          0   \n",
       "2833              0           0           0            0          0   \n",
       "3026              1           0           0            0          0   \n",
       "3128              1           0           0            0          0   \n",
       "5117              1           0           0            0          0   \n",
       "...             ...         ...         ...          ...        ...   \n",
       "5734              0           0           0            0          0   \n",
       "5191              0           0           1            0          0   \n",
       "5390              0           0           0            1          0   \n",
       "860               0           0           0            0          0   \n",
       "7270              0           0           0            0          0   \n",
       "\n",
       "      month_November  month_September  \n",
       "ID                                     \n",
       "794                0                0  \n",
       "2833               0                0  \n",
       "3026               0                0  \n",
       "3128               0                0  \n",
       "5117               0                0  \n",
       "...              ...              ...  \n",
       "5734               0                0  \n",
       "5191               0                0  \n",
       "5390               0                0  \n",
       "860                0                0  \n",
       "7270               0                0  \n",
       "\n",
       "[7475 rows x 20 columns]"
      ]
     },
     "execution_count": 132,
     "metadata": {},
     "output_type": "execute_result"
    }
   ],
   "source": [
    "preprocess_df"
   ]
  },
  {
   "cell_type": "markdown",
   "id": "c11fb1e5",
   "metadata": {},
   "source": [
    "Finally we will drop the HousePrice as it is the target variable, we will divide it in features and lable."
   ]
  },
  {
   "cell_type": "code",
   "execution_count": 139,
   "id": "0ae0de73",
   "metadata": {},
   "outputs": [],
   "source": [
    "X_train = train.drop('HousePrice', axis=1)\n",
    "y_train = train.HousePrice"
   ]
  },
  {
   "cell_type": "markdown",
   "id": "824f59c8",
   "metadata": {},
   "source": [
    "## Modeling\n",
    "\n",
    "It is time to start the modeling part!  Now that we have the clean dataset, we can start searching for a good model in all the machine learning algorithms, let's keep going.\n",
    "\n",
    "The first think we will do is to make a pipeline, you could think of a pipeline like a workflow, that something keeps executing at first and later the other process in the workflow.\n",
    "\n",
    "<img src=\"img/pipeline.webp\" width=\"70%\" height=\"100%\">\n",
    "\n",
    "The second think and the most important algorithm (in terms of easy explanation) is the regressor of random forests, it will build an ensemble of different small models and in the end will make the summation and will bring the output of that summation as the regression.  There are a lot of machine learning algorithms that you can apply so view the scikit-learn documentation to validate them.\n",
    "\n",
    "<img src=\"img/randomforestregressor.png\" width=\"70%\" height=\"100%\">\n",
    "\n",
    "With gradient boosting (and extreme gradient boosting) the things are a little bit different, we will build several weak learners that will be inputed from one to another forming a strong learner, in the end ensemble algorithms outperforms usually normal algorithms, so let's see how we do.\n",
    "<img src=\"img/gradientboosting.png\" width=\"70%\" height=\"100%\">\n",
    "\n",
    "### Modeling.1\n",
    "\n",
    "OK, now we will go and create the pipeline of all the models.  First we will lista a tuple of models that we will use."
   ]
  },
  {
   "cell_type": "code",
   "execution_count": 143,
   "id": "405293fd",
   "metadata": {},
   "outputs": [],
   "source": [
    "models = [\n",
    "    ('RD', Ridge()),\n",
    "    ('RF', RandomForestRegressor()),\n",
    "    ('GB', GradientBoostingRegressor()),\n",
    "    ('XG', XGBRegressor())\n",
    "]"
   ]
  },
  {
   "cell_type": "markdown",
   "id": "1d60aec6",
   "metadata": {},
   "source": [
    "### Modeling.2\n",
    "\n",
    "We will build the hyperparameter tunning grid.  You will see later that we will jump on each model and grab these parmeters that are part of each algorithm and start tryin different on it. for example, and this is from the pipeline, our pipeline, the model part is named `model`, so we need to access the `Ridge` parameter `alpha`; we need to refer at first to the model in the pipeline and name the parapeter after two `__`.  \n",
    "\n",
    "The parameter grid has a dictionary over it, do not worry, this is because we will know later that we will be looping around each algorithm described as a simplified two letter to follow the algorithm to train."
   ]
  },
  {
   "cell_type": "code",
   "execution_count": 144,
   "id": "738a2398",
   "metadata": {},
   "outputs": [],
   "source": [
    "paramgrid = {\n",
    "    'RD':{'model__alpha':[0.05, 0.25, 0.5, 1.0]},\n",
    "    'RF':{'model__n_estimators':[100, 200, 400, 500, 600],\n",
    "          'model__max_depth':[5, 6, 7, None]},\n",
    "    'GB':{'model__n_estimators':[100, 200, 400, 500, 600],\n",
    "          'model__max_depth':[5, 6, 7, None]},  \n",
    "    'XG':{'model__n_estimators':[100, 200, 400, 500, 600],\n",
    "          'model__max_depth':[5, 6, 7, None]} \n",
    "}"
   ]
  },
  {
   "cell_type": "markdown",
   "id": "4e3c85d7",
   "metadata": {},
   "source": [
    "Now we will loop against all the models and apply the pipeline, finally we will fit the model, train and save the baseline models.\n",
    "\n",
    "- First we will build the pipelines steps.\n",
    "- Next, when built the pipeline we will perform an hyperparameter tunning job to do gridsearch over all the jobs.\n",
    "- We will fit the model and later store each model results inside a dictionary\n",
    "\n",
    "An additional note.\n",
    "- Look that the parameter grid loop over each model because we have a dictionary."
   ]
  },
  {
   "cell_type": "code",
   "execution_count": 169,
   "id": "fa366bf1",
   "metadata": {},
   "outputs": [
    {
     "name": "stdout",
     "output_type": "stream",
     "text": [
      "[INFO] - Starting RD\n"
     ]
    },
    {
     "name": "stderr",
     "output_type": "stream",
     "text": [
      "C:\\Users\\Denys\\anaconda3\\envs\\churn\\lib\\site-packages\\sklearn\\base.py:439: UserWarning: X does not have valid feature names, but StandardScaler was fitted with feature names\n",
      "  warnings.warn(\n"
     ]
    },
    {
     "name": "stdout",
     "output_type": "stream",
     "text": [
      "[INFO] - Finished RD\n",
      "[INFO] - Starting RF\n"
     ]
    },
    {
     "name": "stderr",
     "output_type": "stream",
     "text": [
      "C:\\Users\\Denys\\anaconda3\\envs\\churn\\lib\\site-packages\\sklearn\\base.py:439: UserWarning: X does not have valid feature names, but StandardScaler was fitted with feature names\n",
      "  warnings.warn(\n"
     ]
    },
    {
     "name": "stdout",
     "output_type": "stream",
     "text": [
      "[INFO] - Finished RF\n",
      "[INFO] - Starting GB\n"
     ]
    },
    {
     "name": "stderr",
     "output_type": "stream",
     "text": [
      "C:\\Users\\Denys\\anaconda3\\envs\\churn\\lib\\site-packages\\sklearn\\base.py:439: UserWarning: X does not have valid feature names, but StandardScaler was fitted with feature names\n",
      "  warnings.warn(\n"
     ]
    },
    {
     "name": "stdout",
     "output_type": "stream",
     "text": [
      "[INFO] - Finished GB\n",
      "[INFO] - Starting XG\n"
     ]
    },
    {
     "name": "stderr",
     "output_type": "stream",
     "text": [
      "C:\\Users\\Denys\\anaconda3\\envs\\churn\\lib\\site-packages\\sklearn\\base.py:439: UserWarning: X does not have valid feature names, but StandardScaler was fitted with feature names\n",
      "  warnings.warn(\n"
     ]
    },
    {
     "name": "stdout",
     "output_type": "stream",
     "text": [
      "[INFO] - Finished XG\n",
      "CPU times: total: 28.3 s\n",
      "Wall time: 9min 57s\n"
     ]
    }
   ],
   "source": [
    "%%time\n",
    "fitted_model = dict()\n",
    "for name, model in models:\n",
    "    print(f'[INFO] - Starting {name}')\n",
    "    steps = [('preprocessor', Preprocessor()), ('model', model)]\n",
    "    pipe = Pipeline(steps=steps)\n",
    "    grid = GridSearchCV(pipe, paramgrid[name], n_jobs=-1, cv=10, scoring='r2')\n",
    "    grid.fit(X_train, y_train)\n",
    "    fitted_model[name] = grid\n",
    "    print(f'[INFO] - Finished {name}')"
   ]
  },
  {
   "cell_type": "markdown",
   "id": "afdbcaa2",
   "metadata": {},
   "source": [
    "## Evaluate, Predict and Score the Model"
   ]
  },
  {
   "cell_type": "markdown",
   "id": "e92dfad4",
   "metadata": {},
   "source": [
    "Next after finishing of training our pipelines and storing in the models variable, before applying the evaluations on each model we will need to look about the values of the test dataset.\n",
    "\n",
    "### Evaluate.1\n",
    "Let's check the info."
   ]
  },
  {
   "cell_type": "code",
   "execution_count": 148,
   "id": "9d8b9326",
   "metadata": {},
   "outputs": [
    {
     "name": "stdout",
     "output_type": "stream",
     "text": [
      "<class 'pandas.core.frame.DataFrame'>\n",
      "Int64Index: 1872 entries, 4635 to 6151\n",
      "Data columns (total 6 columns):\n",
      " #   Column             Non-Null Count  Dtype  \n",
      "---  ------             --------------  -----  \n",
      " 0   TransactionDate    1872 non-null   float64\n",
      " 1   HouseAge           1872 non-null   float64\n",
      " 2   DistanceToStation  1872 non-null   float64\n",
      " 3   NumberOfPubs       1871 non-null   float64\n",
      " 4   PostCode           1870 non-null   float64\n",
      " 5   HousePrice         1870 non-null   object \n",
      "dtypes: float64(5), object(1)\n",
      "memory usage: 102.4+ KB\n"
     ]
    }
   ],
   "source": [
    "test.info()"
   ]
  },
  {
   "cell_type": "code",
   "execution_count": 149,
   "id": "e544dc6f",
   "metadata": {},
   "outputs": [
    {
     "data": {
      "text/plain": [
       "TransactionDate      0\n",
       "HouseAge             0\n",
       "DistanceToStation    0\n",
       "NumberOfPubs         1\n",
       "PostCode             2\n",
       "HousePrice           2\n",
       "dtype: int64"
      ]
     },
     "execution_count": 149,
     "metadata": {},
     "output_type": "execute_result"
    }
   ],
   "source": [
    "test.isnull().sum()"
   ]
  },
  {
   "cell_type": "markdown",
   "id": "bef08b9c",
   "metadata": {},
   "source": [
    "### Evaluate.2 - Remove Nulls"
   ]
  },
  {
   "cell_type": "markdown",
   "id": "99cb4797",
   "metadata": {},
   "source": [
    "OK, here we see 2 null values in the HousePrice variable (the target), it doesn't make sense to have it here because if we didn't know the target (or could get from the source) is better to drop."
   ]
  },
  {
   "cell_type": "code",
   "execution_count": 152,
   "id": "4dc48e26",
   "metadata": {},
   "outputs": [],
   "source": [
    "test = test[~test.HousePrice.isnull()]"
   ]
  },
  {
   "cell_type": "code",
   "execution_count": 154,
   "id": "905bfeae",
   "metadata": {},
   "outputs": [
    {
     "data": {
      "text/plain": [
       "TransactionDate      0\n",
       "HouseAge             0\n",
       "DistanceToStation    0\n",
       "NumberOfPubs         0\n",
       "PostCode             0\n",
       "HousePrice           0\n",
       "dtype: int64"
      ]
     },
     "execution_count": 154,
     "metadata": {},
     "output_type": "execute_result"
    }
   ],
   "source": [
    "test.isnull().sum() "
   ]
  },
  {
   "cell_type": "markdown",
   "id": "eb81c445",
   "metadata": {},
   "source": [
    "Nice, we have no null values, but if we did have a variable that is not null and not referring to the HousePrice, remembet that we imputed this one on the algorithm.\n",
    "\n",
    "For the next line, remember to overcome the `??` string value on HousePrice to keep the dataset clean"
   ]
  },
  {
   "cell_type": "markdown",
   "id": "09b9b360",
   "metadata": {},
   "source": [
    "### Evaluate.3\n",
    "\n",
    "Validate the test data"
   ]
  },
  {
   "cell_type": "code",
   "execution_count": 160,
   "id": "203e51db",
   "metadata": {},
   "outputs": [
    {
     "name": "stderr",
     "output_type": "stream",
     "text": [
      "C:\\Users\\Denys\\AppData\\Local\\Temp\\ipykernel_10436\\966839273.py:2: SettingWithCopyWarning: \n",
      "A value is trying to be set on a copy of a slice from a DataFrame.\n",
      "Try using .loc[row_indexer,col_indexer] = value instead\n",
      "\n",
      "See the caveats in the documentation: https://pandas.pydata.org/pandas-docs/stable/user_guide/indexing.html#returning-a-view-versus-a-copy\n",
      "  test['HousePrice'] = test['HousePrice'].astype(float)\n",
      "C:\\Users\\Denys\\AppData\\Local\\Temp\\ipykernel_10436\\966839273.py:3: SettingWithCopyWarning: \n",
      "A value is trying to be set on a copy of a slice from a DataFrame.\n",
      "Try using .loc[row_indexer,col_indexer] = value instead\n",
      "\n",
      "See the caveats in the documentation: https://pandas.pydata.org/pandas-docs/stable/user_guide/indexing.html#returning-a-view-versus-a-copy\n",
      "  test['TransactionDate'] = test['TransactionDate'].astype(str)\n",
      "C:\\Users\\Denys\\AppData\\Local\\Temp\\ipykernel_10436\\966839273.py:4: SettingWithCopyWarning: \n",
      "A value is trying to be set on a copy of a slice from a DataFrame.\n",
      "Try using .loc[row_indexer,col_indexer] = value instead\n",
      "\n",
      "See the caveats in the documentation: https://pandas.pydata.org/pandas-docs/stable/user_guide/indexing.html#returning-a-view-versus-a-copy\n",
      "  test['PostCode'] = test['PostCode'].astype(str)\n"
     ]
    }
   ],
   "source": [
    "test = test[~(test.HousePrice=='??')]\n",
    "test['HousePrice'] = test['HousePrice'].astype(float)\n",
    "test['TransactionDate'] = test['TransactionDate'].astype(str)\n",
    "test['PostCode'] = test['PostCode'].astype(str)"
   ]
  },
  {
   "cell_type": "markdown",
   "id": "97c28dc3",
   "metadata": {},
   "source": [
    "### Evaluate.4\n",
    "\n",
    "Create the features and targets"
   ]
  },
  {
   "cell_type": "code",
   "execution_count": 162,
   "id": "4bd6c292",
   "metadata": {},
   "outputs": [],
   "source": [
    "X_test = test.drop('HousePrice', axis=1)\n",
    "y_test = test.HousePrice"
   ]
  },
  {
   "cell_type": "code",
   "execution_count": 163,
   "id": "2c88ab72",
   "metadata": {},
   "outputs": [
    {
     "data": {
      "text/plain": [
       "((1869, 5), (1869,))"
      ]
     },
     "execution_count": 163,
     "metadata": {},
     "output_type": "execute_result"
    }
   ],
   "source": [
    "X_test.shape, y_test.shape"
   ]
  },
  {
   "cell_type": "code",
   "execution_count": null,
   "id": "fe25485f",
   "metadata": {},
   "outputs": [],
   "source": [
    "from sklearn.metrics import r2_score, mean_absolute_error, mean_squared_error"
   ]
  },
  {
   "cell_type": "markdown",
   "id": "a176fab6",
   "metadata": {},
   "source": [
    "### Evaluate.5\n",
    "\n",
    "Now let's loop over ach algorithm and get the algorithm, finally make some predictions and store in a dataframe to later select the best of the models."
   ]
  },
  {
   "cell_type": "code",
   "execution_count": 165,
   "id": "e449389c",
   "metadata": {},
   "outputs": [
    {
     "ename": "AttributeError",
     "evalue": "'Ridge' object has no attribute 'best_estimator_'",
     "output_type": "error",
     "traceback": [
      "\u001b[1;31m---------------------------------------------------------------------------\u001b[0m",
      "\u001b[1;31mAttributeError\u001b[0m                            Traceback (most recent call last)",
      "Cell \u001b[1;32mIn[165], line 2\u001b[0m\n\u001b[0;32m      1\u001b[0m \u001b[38;5;28;01mfor\u001b[39;00m name, model \u001b[38;5;129;01min\u001b[39;00m fitted_model\u001b[38;5;241m.\u001b[39mitems():\n\u001b[1;32m----> 2\u001b[0m     y_test_pred \u001b[38;5;241m=\u001b[39m \u001b[43mmodel\u001b[49m\u001b[38;5;241;43m.\u001b[39;49m\u001b[43mbest_estimator_\u001b[49m\u001b[38;5;241m.\u001b[39mpredict(X_test)\n\u001b[0;32m      3\u001b[0m     r2 \u001b[38;5;241m=\u001b[39m r2_score(y_test, y_test_pred)\n\u001b[0;32m      4\u001b[0m     mae \u001b[38;5;241m=\u001b[39m mean_absolute_error(y_test, y_test_pred)\n",
      "\u001b[1;31mAttributeError\u001b[0m: 'Ridge' object has no attribute 'best_estimator_'"
     ]
    }
   ],
   "source": [
    "for name, model in fitted_model.items():\n",
    "    y_test_pred = model.best_estimator_.predict(X_test)\n",
    "    r2 = r2_score(y_test, y_test_pred)\n",
    "    mae = mean_absolute_error(y_test, y_test_pred)\n",
    "    metrics[name] = {'r2_score': r2, 'mae':mae}\n",
    "    \n",
    "pd.DataFrmae(metrics)"
   ]
  },
  {
   "cell_type": "code",
   "execution_count": null,
   "id": "6a5b359d",
   "metadata": {},
   "outputs": [],
   "source": []
  }
 ],
 "metadata": {
  "kernelspec": {
   "display_name": "Python 3 (ipykernel)",
   "language": "python",
   "name": "python3"
  },
  "language_info": {
   "codemirror_mode": {
    "name": "ipython",
    "version": 3
   },
   "file_extension": ".py",
   "mimetype": "text/x-python",
   "name": "python",
   "nbconvert_exporter": "python",
   "pygments_lexer": "ipython3",
   "version": "3.9.16"
  }
 },
 "nbformat": 4,
 "nbformat_minor": 5
}
